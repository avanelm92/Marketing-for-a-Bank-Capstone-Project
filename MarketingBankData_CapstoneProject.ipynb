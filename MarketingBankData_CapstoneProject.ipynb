{
 "cells": [
  {
   "cell_type": "markdown",
   "metadata": {},
   "source": [
    "# Modulo 5 Capstone Project\n",
    "## Ana Vanessa López Monge"
   ]
  },
  {
   "cell_type": "markdown",
   "metadata": {},
   "source": [
    "# Project Description"
   ]
  },
  {
   "cell_type": "markdown",
   "metadata": {},
   "source": [
    "El proyecto tiene como objetivo analizar los datos de una campaña de marketing de un banco Portugues y predecir si el cliente aceptará o no un deposito a plazo. De esta manera, la tecnología permite repensar las estrategias de marketing al enfocarse en maximizar el valor del cliente a través de la evaluación de la información disponible y las métricas del cliente, lo que permite construir relaciones más largas y más estrictas en alineación con la demanda comercial. \n",
    "\n",
    "En este código realizamos depuración de la información, análisis descriptivo y gráfico preliminar y entrenamiento y testeo de modelos predictivos mediante el uso de diferentes algoritmos de clasificación.\n"
   ]
  },
  {
   "cell_type": "markdown",
   "metadata": {},
   "source": [
    "# Libraries Import"
   ]
  },
  {
   "cell_type": "code",
   "execution_count": 349,
   "metadata": {},
   "outputs": [],
   "source": [
    "import numpy as np\n",
    "import pandas as pd\n",
    "from pandas import Series, DataFrame\n",
    "import matplotlib.pyplot as plt\n",
    "import matplotlib as mpl\n",
    "import seaborn as sns\n",
    "import statsmodels.api\n",
    "import statsmodels.api as sm \n",
    "from statsmodels.formula.api import ols\n",
    "from matplotlib import pylab\n",
    "import scipy\n",
    "from math import sqrt\n",
    "import matplotlib.pyplot as plt\n",
    "import seaborn as sns\n",
    "%matplotlib inline\n",
    "pylab.rcParams['figure.figsize'] = (10.0, 8.0)\n",
    "from scipy import stats\n",
    "import researchpy as rp\n",
    "from statsmodels.stats.multicomp import (pairwise_tukeyhsd,\n",
    "                                         MultiComparison)\n",
    "from statsmodels.stats.proportion import proportions_ztest\n",
    "from statsmodels.stats.proportion import proportions_chisquare_allpairs\n",
    "import researchpy"
   ]
  },
  {
   "cell_type": "markdown",
   "metadata": {},
   "source": [
    "# Estimators Definition"
   ]
  },
  {
   "cell_type": "code",
   "execution_count": 4,
   "metadata": {},
   "outputs": [],
   "source": [
    "from sklearn.tree import DecisionTreeClassifier\n",
    "from sklearn.neighbors import KNeighborsClassifier\n",
    "from sklearn.ensemble import RandomForestClassifier\n",
    "from sklearn import svm\n",
    "from sklearn.feature_selection import RFE"
   ]
  },
  {
   "cell_type": "markdown",
   "metadata": {},
   "source": [
    "# Model Metrics and Cross Validation "
   ]
  },
  {
   "cell_type": "code",
   "execution_count": 5,
   "metadata": {},
   "outputs": [],
   "source": [
    "from sklearn.model_selection import cross_val_score\n",
    "from sklearn.metrics import accuracy_score\n",
    "from sklearn.metrics import cohen_kappa_score\n",
    "from sklearn.metrics import confusion_matrix\n",
    "from sklearn.metrics import classification_report\n",
    "from sklearn.metrics import precision_score\n",
    "from sklearn.metrics import recall_score\n",
    "from sklearn.model_selection import train_test_split"
   ]
  },
  {
   "cell_type": "markdown",
   "metadata": {},
   "source": [
    "# Dataset Upload"
   ]
  },
  {
   "cell_type": "markdown",
   "metadata": {},
   "source": [
    "Este estudio considera datos reales recopilados de un banco minorista portugués, de mayo de 2008 a junio de 2013, en un total de 41188 contactos telefónicos. El conjunto de datos no está equilibrado, ya que solo 11,3% de los registros están relacionados con los éxitos."
   ]
  },
  {
   "cell_type": "code",
   "execution_count": 9,
   "metadata": {},
   "outputs": [],
   "source": [
    "bankData = pd.read_excel('bankdata.xlsx', header =0)\n",
    "bankData1= bankData.copy()"
   ]
  },
  {
   "cell_type": "markdown",
   "metadata": {},
   "source": [
    "# General Visualizations"
   ]
  },
  {
   "cell_type": "markdown",
   "metadata": {},
   "source": [
    "Se realizan visualizaciones iniciales de la composición de la data y estadistica descriptiva para aquellas variables numericas. El conjunto de datos está compuesto por un total de 41188 registros y 21 variables."
   ]
  },
  {
   "cell_type": "code",
   "execution_count": 10,
   "metadata": {
    "scrolled": true
   },
   "outputs": [
    {
     "data": {
      "text/html": [
       "<div>\n",
       "<style scoped>\n",
       "    .dataframe tbody tr th:only-of-type {\n",
       "        vertical-align: middle;\n",
       "    }\n",
       "\n",
       "    .dataframe tbody tr th {\n",
       "        vertical-align: top;\n",
       "    }\n",
       "\n",
       "    .dataframe thead th {\n",
       "        text-align: right;\n",
       "    }\n",
       "</style>\n",
       "<table border=\"1\" class=\"dataframe\">\n",
       "  <thead>\n",
       "    <tr style=\"text-align: right;\">\n",
       "      <th></th>\n",
       "      <th>age</th>\n",
       "      <th>job</th>\n",
       "      <th>marital</th>\n",
       "      <th>education</th>\n",
       "      <th>default</th>\n",
       "      <th>housing</th>\n",
       "      <th>loan</th>\n",
       "      <th>contact</th>\n",
       "      <th>month</th>\n",
       "      <th>dayOfWeek</th>\n",
       "      <th>...</th>\n",
       "      <th>campaign</th>\n",
       "      <th>pdays</th>\n",
       "      <th>previous</th>\n",
       "      <th>poutcome</th>\n",
       "      <th>empVarRate</th>\n",
       "      <th>consPriceIdx</th>\n",
       "      <th>consConfIdx</th>\n",
       "      <th>euribor3m</th>\n",
       "      <th>nrEmployed</th>\n",
       "      <th>fixedTermDeposit</th>\n",
       "    </tr>\n",
       "  </thead>\n",
       "  <tbody>\n",
       "    <tr>\n",
       "      <td>0</td>\n",
       "      <td>56</td>\n",
       "      <td>housemaid</td>\n",
       "      <td>married</td>\n",
       "      <td>basic.4y</td>\n",
       "      <td>no</td>\n",
       "      <td>no</td>\n",
       "      <td>no</td>\n",
       "      <td>telephone</td>\n",
       "      <td>may</td>\n",
       "      <td>mon</td>\n",
       "      <td>...</td>\n",
       "      <td>1</td>\n",
       "      <td>999</td>\n",
       "      <td>0</td>\n",
       "      <td>nonexistent</td>\n",
       "      <td>1.1</td>\n",
       "      <td>93.994</td>\n",
       "      <td>-36.4</td>\n",
       "      <td>4.857</td>\n",
       "      <td>5191.0</td>\n",
       "      <td>no</td>\n",
       "    </tr>\n",
       "    <tr>\n",
       "      <td>1</td>\n",
       "      <td>57</td>\n",
       "      <td>services</td>\n",
       "      <td>married</td>\n",
       "      <td>high.school</td>\n",
       "      <td>unknown</td>\n",
       "      <td>no</td>\n",
       "      <td>no</td>\n",
       "      <td>telephone</td>\n",
       "      <td>may</td>\n",
       "      <td>mon</td>\n",
       "      <td>...</td>\n",
       "      <td>1</td>\n",
       "      <td>999</td>\n",
       "      <td>0</td>\n",
       "      <td>nonexistent</td>\n",
       "      <td>1.1</td>\n",
       "      <td>93.994</td>\n",
       "      <td>-36.4</td>\n",
       "      <td>4.857</td>\n",
       "      <td>5191.0</td>\n",
       "      <td>no</td>\n",
       "    </tr>\n",
       "    <tr>\n",
       "      <td>2</td>\n",
       "      <td>37</td>\n",
       "      <td>services</td>\n",
       "      <td>married</td>\n",
       "      <td>high.school</td>\n",
       "      <td>no</td>\n",
       "      <td>yes</td>\n",
       "      <td>no</td>\n",
       "      <td>telephone</td>\n",
       "      <td>may</td>\n",
       "      <td>mon</td>\n",
       "      <td>...</td>\n",
       "      <td>1</td>\n",
       "      <td>999</td>\n",
       "      <td>0</td>\n",
       "      <td>nonexistent</td>\n",
       "      <td>1.1</td>\n",
       "      <td>93.994</td>\n",
       "      <td>-36.4</td>\n",
       "      <td>4.857</td>\n",
       "      <td>5191.0</td>\n",
       "      <td>no</td>\n",
       "    </tr>\n",
       "    <tr>\n",
       "      <td>3</td>\n",
       "      <td>40</td>\n",
       "      <td>admin.</td>\n",
       "      <td>married</td>\n",
       "      <td>basic.6y</td>\n",
       "      <td>no</td>\n",
       "      <td>no</td>\n",
       "      <td>no</td>\n",
       "      <td>telephone</td>\n",
       "      <td>may</td>\n",
       "      <td>mon</td>\n",
       "      <td>...</td>\n",
       "      <td>1</td>\n",
       "      <td>999</td>\n",
       "      <td>0</td>\n",
       "      <td>nonexistent</td>\n",
       "      <td>1.1</td>\n",
       "      <td>93.994</td>\n",
       "      <td>-36.4</td>\n",
       "      <td>4.857</td>\n",
       "      <td>5191.0</td>\n",
       "      <td>no</td>\n",
       "    </tr>\n",
       "    <tr>\n",
       "      <td>4</td>\n",
       "      <td>56</td>\n",
       "      <td>services</td>\n",
       "      <td>married</td>\n",
       "      <td>high.school</td>\n",
       "      <td>no</td>\n",
       "      <td>no</td>\n",
       "      <td>yes</td>\n",
       "      <td>telephone</td>\n",
       "      <td>may</td>\n",
       "      <td>mon</td>\n",
       "      <td>...</td>\n",
       "      <td>1</td>\n",
       "      <td>999</td>\n",
       "      <td>0</td>\n",
       "      <td>nonexistent</td>\n",
       "      <td>1.1</td>\n",
       "      <td>93.994</td>\n",
       "      <td>-36.4</td>\n",
       "      <td>4.857</td>\n",
       "      <td>5191.0</td>\n",
       "      <td>no</td>\n",
       "    </tr>\n",
       "  </tbody>\n",
       "</table>\n",
       "<p>5 rows × 21 columns</p>\n",
       "</div>"
      ],
      "text/plain": [
       "   age        job  marital    education  default housing loan    contact  \\\n",
       "0   56  housemaid  married     basic.4y       no      no   no  telephone   \n",
       "1   57   services  married  high.school  unknown      no   no  telephone   \n",
       "2   37   services  married  high.school       no     yes   no  telephone   \n",
       "3   40     admin.  married     basic.6y       no      no   no  telephone   \n",
       "4   56   services  married  high.school       no      no  yes  telephone   \n",
       "\n",
       "  month dayOfWeek  ...  campaign  pdays  previous     poutcome empVarRate  \\\n",
       "0   may       mon  ...         1    999         0  nonexistent        1.1   \n",
       "1   may       mon  ...         1    999         0  nonexistent        1.1   \n",
       "2   may       mon  ...         1    999         0  nonexistent        1.1   \n",
       "3   may       mon  ...         1    999         0  nonexistent        1.1   \n",
       "4   may       mon  ...         1    999         0  nonexistent        1.1   \n",
       "\n",
       "   consPriceIdx  consConfIdx  euribor3m  nrEmployed  fixedTermDeposit  \n",
       "0        93.994        -36.4      4.857      5191.0                no  \n",
       "1        93.994        -36.4      4.857      5191.0                no  \n",
       "2        93.994        -36.4      4.857      5191.0                no  \n",
       "3        93.994        -36.4      4.857      5191.0                no  \n",
       "4        93.994        -36.4      4.857      5191.0                no  \n",
       "\n",
       "[5 rows x 21 columns]"
      ]
     },
     "execution_count": 10,
     "metadata": {},
     "output_type": "execute_result"
    }
   ],
   "source": [
    "bankData.head() #Para visualiazar el numero de atributos"
   ]
  },
  {
   "cell_type": "code",
   "execution_count": 11,
   "metadata": {},
   "outputs": [
    {
     "data": {
      "text/html": [
       "<div>\n",
       "<style scoped>\n",
       "    .dataframe tbody tr th:only-of-type {\n",
       "        vertical-align: middle;\n",
       "    }\n",
       "\n",
       "    .dataframe tbody tr th {\n",
       "        vertical-align: top;\n",
       "    }\n",
       "\n",
       "    .dataframe thead th {\n",
       "        text-align: right;\n",
       "    }\n",
       "</style>\n",
       "<table border=\"1\" class=\"dataframe\">\n",
       "  <thead>\n",
       "    <tr style=\"text-align: right;\">\n",
       "      <th></th>\n",
       "      <th>age</th>\n",
       "      <th>duration</th>\n",
       "      <th>campaign</th>\n",
       "      <th>pdays</th>\n",
       "      <th>previous</th>\n",
       "      <th>empVarRate</th>\n",
       "      <th>consPriceIdx</th>\n",
       "      <th>consConfIdx</th>\n",
       "      <th>euribor3m</th>\n",
       "      <th>nrEmployed</th>\n",
       "    </tr>\n",
       "  </thead>\n",
       "  <tbody>\n",
       "    <tr>\n",
       "      <td>count</td>\n",
       "      <td>41188.00000</td>\n",
       "      <td>41188.000000</td>\n",
       "      <td>41188.000000</td>\n",
       "      <td>41188.000000</td>\n",
       "      <td>41188.000000</td>\n",
       "      <td>41188.000000</td>\n",
       "      <td>41188.000000</td>\n",
       "      <td>41188.000000</td>\n",
       "      <td>41188.000000</td>\n",
       "      <td>41188.000000</td>\n",
       "    </tr>\n",
       "    <tr>\n",
       "      <td>mean</td>\n",
       "      <td>40.02406</td>\n",
       "      <td>258.285010</td>\n",
       "      <td>2.567593</td>\n",
       "      <td>962.475454</td>\n",
       "      <td>0.172963</td>\n",
       "      <td>0.081886</td>\n",
       "      <td>93.575664</td>\n",
       "      <td>-40.502600</td>\n",
       "      <td>3.621291</td>\n",
       "      <td>5167.035911</td>\n",
       "    </tr>\n",
       "    <tr>\n",
       "      <td>std</td>\n",
       "      <td>10.42125</td>\n",
       "      <td>259.279249</td>\n",
       "      <td>2.770014</td>\n",
       "      <td>186.910907</td>\n",
       "      <td>0.494901</td>\n",
       "      <td>1.570960</td>\n",
       "      <td>0.578840</td>\n",
       "      <td>4.628198</td>\n",
       "      <td>1.734447</td>\n",
       "      <td>72.251528</td>\n",
       "    </tr>\n",
       "    <tr>\n",
       "      <td>min</td>\n",
       "      <td>17.00000</td>\n",
       "      <td>0.000000</td>\n",
       "      <td>1.000000</td>\n",
       "      <td>0.000000</td>\n",
       "      <td>0.000000</td>\n",
       "      <td>-3.400000</td>\n",
       "      <td>92.201000</td>\n",
       "      <td>-50.800000</td>\n",
       "      <td>0.634000</td>\n",
       "      <td>4963.600000</td>\n",
       "    </tr>\n",
       "    <tr>\n",
       "      <td>25%</td>\n",
       "      <td>32.00000</td>\n",
       "      <td>102.000000</td>\n",
       "      <td>1.000000</td>\n",
       "      <td>999.000000</td>\n",
       "      <td>0.000000</td>\n",
       "      <td>-1.800000</td>\n",
       "      <td>93.075000</td>\n",
       "      <td>-42.700000</td>\n",
       "      <td>1.344000</td>\n",
       "      <td>5099.100000</td>\n",
       "    </tr>\n",
       "    <tr>\n",
       "      <td>50%</td>\n",
       "      <td>38.00000</td>\n",
       "      <td>180.000000</td>\n",
       "      <td>2.000000</td>\n",
       "      <td>999.000000</td>\n",
       "      <td>0.000000</td>\n",
       "      <td>1.100000</td>\n",
       "      <td>93.749000</td>\n",
       "      <td>-41.800000</td>\n",
       "      <td>4.857000</td>\n",
       "      <td>5191.000000</td>\n",
       "    </tr>\n",
       "    <tr>\n",
       "      <td>75%</td>\n",
       "      <td>47.00000</td>\n",
       "      <td>319.000000</td>\n",
       "      <td>3.000000</td>\n",
       "      <td>999.000000</td>\n",
       "      <td>0.000000</td>\n",
       "      <td>1.400000</td>\n",
       "      <td>93.994000</td>\n",
       "      <td>-36.400000</td>\n",
       "      <td>4.961000</td>\n",
       "      <td>5228.100000</td>\n",
       "    </tr>\n",
       "    <tr>\n",
       "      <td>max</td>\n",
       "      <td>98.00000</td>\n",
       "      <td>4918.000000</td>\n",
       "      <td>56.000000</td>\n",
       "      <td>999.000000</td>\n",
       "      <td>7.000000</td>\n",
       "      <td>1.400000</td>\n",
       "      <td>94.767000</td>\n",
       "      <td>-26.900000</td>\n",
       "      <td>5.045000</td>\n",
       "      <td>5228.100000</td>\n",
       "    </tr>\n",
       "  </tbody>\n",
       "</table>\n",
       "</div>"
      ],
      "text/plain": [
       "               age      duration      campaign         pdays      previous  \\\n",
       "count  41188.00000  41188.000000  41188.000000  41188.000000  41188.000000   \n",
       "mean      40.02406    258.285010      2.567593    962.475454      0.172963   \n",
       "std       10.42125    259.279249      2.770014    186.910907      0.494901   \n",
       "min       17.00000      0.000000      1.000000      0.000000      0.000000   \n",
       "25%       32.00000    102.000000      1.000000    999.000000      0.000000   \n",
       "50%       38.00000    180.000000      2.000000    999.000000      0.000000   \n",
       "75%       47.00000    319.000000      3.000000    999.000000      0.000000   \n",
       "max       98.00000   4918.000000     56.000000    999.000000      7.000000   \n",
       "\n",
       "         empVarRate  consPriceIdx   consConfIdx     euribor3m    nrEmployed  \n",
       "count  41188.000000  41188.000000  41188.000000  41188.000000  41188.000000  \n",
       "mean       0.081886     93.575664    -40.502600      3.621291   5167.035911  \n",
       "std        1.570960      0.578840      4.628198      1.734447     72.251528  \n",
       "min       -3.400000     92.201000    -50.800000      0.634000   4963.600000  \n",
       "25%       -1.800000     93.075000    -42.700000      1.344000   5099.100000  \n",
       "50%        1.100000     93.749000    -41.800000      4.857000   5191.000000  \n",
       "75%        1.400000     93.994000    -36.400000      4.961000   5228.100000  \n",
       "max        1.400000     94.767000    -26.900000      5.045000   5228.100000  "
      ]
     },
     "execution_count": 11,
     "metadata": {},
     "output_type": "execute_result"
    }
   ],
   "source": [
    "bankData.describe() #Para visualizar estadistica descriptiva de la data"
   ]
  },
  {
   "cell_type": "code",
   "execution_count": 12,
   "metadata": {},
   "outputs": [
    {
     "name": "stdout",
     "output_type": "stream",
     "text": [
      "<class 'pandas.core.frame.DataFrame'>\n",
      "RangeIndex: 41188 entries, 0 to 41187\n",
      "Data columns (total 21 columns):\n",
      "age                 41188 non-null int64\n",
      "job                 41188 non-null object\n",
      "marital             41188 non-null object\n",
      "education           41188 non-null object\n",
      "default             41188 non-null object\n",
      "housing             41188 non-null object\n",
      "loan                41188 non-null object\n",
      "contact             41188 non-null object\n",
      "month               41188 non-null object\n",
      "dayOfWeek           41188 non-null object\n",
      "duration            41188 non-null int64\n",
      "campaign            41188 non-null int64\n",
      "pdays               41188 non-null int64\n",
      "previous            41188 non-null int64\n",
      "poutcome            41188 non-null object\n",
      "empVarRate          41188 non-null float64\n",
      "consPriceIdx        41188 non-null float64\n",
      "consConfIdx         41188 non-null float64\n",
      "euribor3m           41188 non-null float64\n",
      "nrEmployed          41188 non-null float64\n",
      "fixedTermDeposit    41188 non-null object\n",
      "dtypes: float64(5), int64(5), object(11)\n",
      "memory usage: 6.6+ MB\n"
     ]
    }
   ],
   "source": [
    "bankData.info() #Tipo de variables"
   ]
  },
  {
   "cell_type": "code",
   "execution_count": 13,
   "metadata": {},
   "outputs": [
    {
     "data": {
      "text/plain": [
       "age                 0\n",
       "job                 0\n",
       "marital             0\n",
       "education           0\n",
       "default             0\n",
       "housing             0\n",
       "loan                0\n",
       "contact             0\n",
       "month               0\n",
       "dayOfWeek           0\n",
       "duration            0\n",
       "campaign            0\n",
       "pdays               0\n",
       "previous            0\n",
       "poutcome            0\n",
       "empVarRate          0\n",
       "consPriceIdx        0\n",
       "consConfIdx         0\n",
       "euribor3m           0\n",
       "nrEmployed          0\n",
       "fixedTermDeposit    0\n",
       "dtype: int64"
      ]
     },
     "execution_count": 13,
     "metadata": {},
     "output_type": "execute_result"
    }
   ],
   "source": [
    "bankData.isna().sum() #Resumen de los NA por columna"
   ]
  },
  {
   "cell_type": "code",
   "execution_count": 14,
   "metadata": {},
   "outputs": [
    {
     "name": "stdout",
     "output_type": "stream",
     "text": [
      "(41188, 21)\n"
     ]
    }
   ],
   "source": [
    "print(bankData.shape) #Visualizar el número de observaciones y atributos"
   ]
  },
  {
   "cell_type": "markdown",
   "metadata": {},
   "source": [
    "# Data Preparation"
   ]
  },
  {
   "cell_type": "markdown",
   "metadata": {},
   "source": [
    "Se realiza la depuración de la data, agrupación de data por rangos para facilitar la visualización grafica y creación de variables dummies para los modelos predictivos"
   ]
  },
  {
   "cell_type": "code",
   "execution_count": 15,
   "metadata": {},
   "outputs": [],
   "source": [
    "#Modificar tipo de variables\n",
    "bankData1['marital'] = pd.Categorical(bankData1.marital)\n",
    "bankData1['education'] = pd.Categorical(bankData1.education)\n",
    "bankData1['housing'] = pd.Categorical(bankData1.housing)\n",
    "bankData1['loan'] = pd.Categorical(bankData1.loan)\n",
    "bankData1['contact'] = pd.Categorical(bankData1.contact)\n",
    "bankData1['month'] = pd.Categorical(bankData1.month)\n",
    "bankData1['dayOfWeek'] = pd.Categorical(bankData1.dayOfWeek)\n",
    "bankData1['poutcome'] = pd.Categorical(bankData1.poutcome)\n",
    "bankData1['fixedTermDeposit'] = pd.Categorical(bankData1.fixedTermDeposit)\n",
    "bankData1['job'] = pd.Categorical(bankData1.job)\n",
    "bankData1['default'] = pd.Categorical(bankData1.default)"
   ]
  },
  {
   "cell_type": "code",
   "execution_count": 16,
   "metadata": {},
   "outputs": [],
   "source": [
    "#Realizando intervalos para la variable edad y duracion de la llamada\n",
    "#Rangos por edades\n",
    "binsAge = [15,20,30,40,50,60,70,150]\n",
    "groupNamesAge = ['Menor a 18','20-29','30-39','40-49','50-59','60-69','Mayor a 70']\n",
    "bankData1['ageRange'] = pd.cut(bankData1['age'], binsAge, labels = groupNamesAge)\n",
    "#Rangos por duracion de llamada\n",
    "binsDuration = [0,1000,2000,3000,4000,7000]\n",
    "groupNamesDuration = ['Menor a 1000 min','1000-1999 min','2000-2999','3000-3999','Mayor a 4000 min']\n",
    "bankData1['durationRange'] = pd.cut(bankData1['duration'], binsDuration, labels = groupNamesDuration)"
   ]
  },
  {
   "cell_type": "code",
   "execution_count": 17,
   "metadata": {},
   "outputs": [],
   "source": [
    "#Cambiando los niveles para aquellas variables categoricas (de texto a número)\n",
    "bankData1[\"job1\"] = bankData1[\"job\"].cat.codes\n",
    "bankData1[\"marital1\"] = bankData1[\"marital\"].cat.codes\n",
    "bankData1[\"education1\"] = bankData1[\"education\"].cat.codes\n",
    "bankData1[\"default1\"] = bankData1[\"default\"].cat.codes\n",
    "bankData1[\"housing1\"] = bankData1[\"housing\"].cat.codes\n",
    "bankData1[\"loan1\"] = bankData1[\"loan\"].cat.codes\n",
    "bankData1[\"contact1\"] = bankData1[\"contact\"].cat.codes\n",
    "bankData1[\"month1\"] = bankData1[\"month\"].cat.codes\n",
    "bankData1[\"dayOfWeek1\"] = bankData1[\"dayOfWeek\"].cat.codes\n",
    "bankData1[\"poutcome1\"] = bankData1[\"poutcome\"].cat.codes\n",
    "bankData1[\"fixedTermDeposit1\"] = bankData1[\"fixedTermDeposit\"].cat.codes"
   ]
  },
  {
   "cell_type": "code",
   "execution_count": 18,
   "metadata": {},
   "outputs": [
    {
     "data": {
      "text/plain": [
       "Index(['age', 'job', 'marital', 'education', 'default', 'housing', 'loan',\n",
       "       'contact', 'month', 'dayOfWeek', 'duration', 'campaign', 'pdays',\n",
       "       'previous', 'poutcome', 'empVarRate', 'consPriceIdx', 'consConfIdx',\n",
       "       'euribor3m', 'nrEmployed', 'fixedTermDeposit', 'ageRange',\n",
       "       'durationRange', 'job1', 'marital1', 'education1', 'default1',\n",
       "       'housing1', 'loan1', 'contact1', 'month1', 'dayOfWeek1', 'poutcome1',\n",
       "       'fixedTermDeposit1'],\n",
       "      dtype='object')"
      ]
     },
     "execution_count": 18,
     "metadata": {},
     "output_type": "execute_result"
    }
   ],
   "source": [
    "#Visualizando la data con las nuevas columnas\n",
    "bankData1.columns"
   ]
  },
  {
   "cell_type": "code",
   "execution_count": 19,
   "metadata": {},
   "outputs": [
    {
     "name": "stdout",
     "output_type": "stream",
     "text": [
      "<class 'pandas.core.frame.DataFrame'>\n",
      "RangeIndex: 41188 entries, 0 to 41187\n",
      "Data columns (total 34 columns):\n",
      "age                  41188 non-null int64\n",
      "job                  41188 non-null category\n",
      "marital              41188 non-null category\n",
      "education            41188 non-null category\n",
      "default              41188 non-null category\n",
      "housing              41188 non-null category\n",
      "loan                 41188 non-null category\n",
      "contact              41188 non-null category\n",
      "month                41188 non-null category\n",
      "dayOfWeek            41188 non-null category\n",
      "duration             41188 non-null int64\n",
      "campaign             41188 non-null int64\n",
      "pdays                41188 non-null int64\n",
      "previous             41188 non-null int64\n",
      "poutcome             41188 non-null category\n",
      "empVarRate           41188 non-null float64\n",
      "consPriceIdx         41188 non-null float64\n",
      "consConfIdx          41188 non-null float64\n",
      "euribor3m            41188 non-null float64\n",
      "nrEmployed           41188 non-null float64\n",
      "fixedTermDeposit     41188 non-null category\n",
      "ageRange             41188 non-null category\n",
      "durationRange        41184 non-null category\n",
      "job1                 41188 non-null int8\n",
      "marital1             41188 non-null int8\n",
      "education1           41188 non-null int8\n",
      "default1             41188 non-null int8\n",
      "housing1             41188 non-null int8\n",
      "loan1                41188 non-null int8\n",
      "contact1             41188 non-null int8\n",
      "month1               41188 non-null int8\n",
      "dayOfWeek1           41188 non-null int8\n",
      "poutcome1            41188 non-null int8\n",
      "fixedTermDeposit1    41188 non-null int8\n",
      "dtypes: category(13), float64(5), int64(5), int8(11)\n",
      "memory usage: 4.1 MB\n"
     ]
    }
   ],
   "source": [
    "#Visualizando la data por tipo de variable\n",
    "bankData1.info()"
   ]
  },
  {
   "cell_type": "markdown",
   "metadata": {},
   "source": [
    "# Initial Analysis and Graphical Visualizations"
   ]
  },
  {
   "cell_type": "markdown",
   "metadata": {},
   "source": [
    "Se realizan diferentes visualizaciones gráficas (gráfico de pastel, gráfica de barras, boxplots, etc) para analizar, explorar e identificar importantes tendencias y comportamientos. El análisis exploratorio de la data nos permitirá encontrar hallazgos iniciales de interes para el estudio.\n",
    "Asimismo se realiza analisis de correlación, varianza y pruebas estadisticas que permiten complementar cuantitativamente lo que se puede visualizar en los gráficos."
   ]
  },
  {
   "cell_type": "markdown",
   "metadata": {},
   "source": [
    "## Corelation, Covariance and Heatmap"
   ]
  },
  {
   "cell_type": "code",
   "execution_count": 20,
   "metadata": {},
   "outputs": [
    {
     "name": "stdout",
     "output_type": "stream",
     "text": [
      "                        age  duration  campaign     pdays  previous  \\\n",
      "age                1.000000 -0.000866  0.004594 -0.034369  0.024365   \n",
      "duration          -0.000866  1.000000 -0.071699 -0.047577  0.020640   \n",
      "campaign           0.004594 -0.071699  1.000000  0.052584 -0.079141   \n",
      "pdays             -0.034369 -0.047577  0.052584  1.000000 -0.587514   \n",
      "previous           0.024365  0.020640 -0.079141 -0.587514  1.000000   \n",
      "empVarRate        -0.000371 -0.027968  0.150754  0.271004 -0.420489   \n",
      "consPriceIdx       0.000857  0.005312  0.127836  0.078889 -0.203130   \n",
      "consConfIdx        0.129372 -0.008173 -0.013733 -0.091342 -0.050936   \n",
      "euribor3m          0.010767 -0.032897  0.135133  0.296899 -0.454494   \n",
      "nrEmployed        -0.017725 -0.044703  0.144095  0.372605 -0.501333   \n",
      "job1               0.001250 -0.006490 -0.006923 -0.028468  0.020965   \n",
      "marital1          -0.389753  0.010290 -0.007240 -0.037942  0.038689   \n",
      "education1        -0.117892 -0.015102  0.000371 -0.046626  0.038831   \n",
      "default1           0.164965 -0.011794  0.032825  0.080062 -0.102416   \n",
      "housing1          -0.001603 -0.007658 -0.011010 -0.010551  0.021314   \n",
      "loan1             -0.007368 -0.000916  0.005166  0.000345 -0.001327   \n",
      "contact1           0.007021 -0.026657  0.077368  0.117970 -0.212848   \n",
      "month1            -0.024877  0.003690 -0.062059 -0.047891  0.103157   \n",
      "dayOfWeek1        -0.017572  0.021950 -0.038288 -0.009531 -0.004102   \n",
      "poutcome1          0.019750  0.033360  0.032586 -0.475619 -0.313110   \n",
      "fixedTermDeposit1  0.030399  0.405274 -0.066357 -0.324914  0.230181   \n",
      "\n",
      "                   empVarRate  consPriceIdx  consConfIdx  euribor3m  \\\n",
      "age                 -0.000371      0.000857     0.129372   0.010767   \n",
      "duration            -0.027968      0.005312    -0.008173  -0.032897   \n",
      "campaign             0.150754      0.127836    -0.013733   0.135133   \n",
      "pdays                0.271004      0.078889    -0.091342   0.296899   \n",
      "previous            -0.420489     -0.203130    -0.050936  -0.454494   \n",
      "empVarRate           1.000000      0.775334     0.196041   0.972245   \n",
      "consPriceIdx         0.775334      1.000000     0.058986   0.688230   \n",
      "consConfIdx          0.196041      0.058986     1.000000   0.277686   \n",
      "euribor3m            0.972245      0.688230     0.277686   1.000000   \n",
      "nrEmployed           0.906970      0.522034     0.100513   0.945154   \n",
      "job1                -0.008271     -0.016017     0.052760  -0.007880   \n",
      "marital1            -0.084210     -0.057477    -0.033783  -0.091939   \n",
      "education1          -0.043778     -0.081607     0.078799  -0.036380   \n",
      "default1             0.203263      0.168073     0.026522   0.195336   \n",
      "housing1            -0.060196     -0.080504    -0.033845  -0.059277   \n",
      "loan1                0.001849     -0.002430    -0.012025   0.000125   \n",
      "contact1             0.393584      0.591474     0.251614   0.399773   \n",
      "month1              -0.178782     -0.004239     0.009652  -0.117264   \n",
      "dayOfWeek1           0.033245      0.005644     0.041465   0.039043   \n",
      "poutcome1            0.192972      0.211330     0.178289   0.184144   \n",
      "fixedTermDeposit1   -0.298334     -0.136211     0.054878  -0.307771   \n",
      "\n",
      "                   nrEmployed  ...  marital1  education1  default1  housing1  \\\n",
      "age                 -0.017725  ... -0.389753   -0.117892  0.164965 -0.001603   \n",
      "duration            -0.044703  ...  0.010290   -0.015102 -0.011794 -0.007658   \n",
      "campaign             0.144095  ... -0.007240    0.000371  0.032825 -0.011010   \n",
      "pdays                0.372605  ... -0.037942   -0.046626  0.080062 -0.010551   \n",
      "previous            -0.501333  ...  0.038689    0.038831 -0.102416  0.021314   \n",
      "empVarRate           0.906970  ... -0.084210   -0.043778  0.203263 -0.060196   \n",
      "consPriceIdx         0.522034  ... -0.057477   -0.081607  0.168073 -0.080504   \n",
      "consConfIdx          0.100513  ... -0.033783    0.078799  0.026522 -0.033845   \n",
      "euribor3m            0.945154  ... -0.091939   -0.036380  0.195336 -0.059277   \n",
      "nrEmployed           1.000000  ... -0.086199   -0.041492  0.189845 -0.045862   \n",
      "job1                -0.019574  ...  0.027897    0.134121 -0.028277  0.006962   \n",
      "marital1            -0.086199  ...  1.000000    0.109220 -0.079450  0.010467   \n",
      "education1          -0.041492  ...  0.109220    1.000000 -0.186859  0.016825   \n",
      "default1             0.189845  ... -0.079450   -0.186859  1.000000 -0.015815   \n",
      "housing1            -0.045862  ...  0.010467    0.016825 -0.015815  1.000000   \n",
      "loan1                0.003903  ...  0.005788    0.006384 -0.003782  0.044296   \n",
      "contact1             0.269155  ... -0.054501   -0.105726  0.135238 -0.082186   \n",
      "month1              -0.221425  ... -0.007629   -0.082684 -0.015830 -0.018141   \n",
      "dayOfWeek1           0.028380  ...  0.002202   -0.017986 -0.008701  0.003339   \n",
      "poutcome1            0.119689  ...  0.001912    0.017009  0.023417 -0.011783   \n",
      "fixedTermDeposit1   -0.354678  ...  0.046203    0.057799 -0.099352  0.011552   \n",
      "\n",
      "                      loan1  contact1    month1  dayOfWeek1  poutcome1  \\\n",
      "age               -0.007368  0.007021 -0.024877   -0.017572   0.019750   \n",
      "duration          -0.000916 -0.026657  0.003690    0.021950   0.033360   \n",
      "campaign           0.005166  0.077368 -0.062059   -0.038288   0.032586   \n",
      "pdays              0.000345  0.117970 -0.047891   -0.009531  -0.475619   \n",
      "previous          -0.001327 -0.212848  0.103157   -0.004102  -0.313110   \n",
      "empVarRate         0.001849  0.393584 -0.178782    0.033245   0.192972   \n",
      "consPriceIdx      -0.002430  0.591474 -0.004239    0.005644   0.211330   \n",
      "consConfIdx       -0.012025  0.251614  0.009652    0.041465   0.178289   \n",
      "euribor3m          0.000125  0.399773 -0.117264    0.039043   0.184144   \n",
      "nrEmployed         0.003903  0.269155 -0.221425    0.028380   0.119689   \n",
      "job1              -0.010209 -0.025132 -0.033213   -0.000844   0.011504   \n",
      "marital1           0.005788 -0.054501 -0.007629    0.002202   0.001912   \n",
      "education1         0.006384 -0.105726 -0.082684   -0.017986   0.017009   \n",
      "default1          -0.003782  0.135238 -0.015830   -0.008701   0.023417   \n",
      "housing1           0.044296 -0.082186 -0.018141    0.003339  -0.011783   \n",
      "loan1              1.000000 -0.008556 -0.005705   -0.009344  -0.001511   \n",
      "contact1          -0.008556  1.000000  0.276565   -0.009575   0.118744   \n",
      "month1            -0.005705  0.276565  1.000000    0.027677  -0.065012   \n",
      "dayOfWeek1        -0.009344 -0.009575  0.027677    1.000000   0.018732   \n",
      "poutcome1         -0.001511  0.118744 -0.065012    0.018732   1.000000   \n",
      "fixedTermDeposit1 -0.004909 -0.144773 -0.006065    0.015967   0.129789   \n",
      "\n",
      "                   fixedTermDeposit1  \n",
      "age                         0.030399  \n",
      "duration                    0.405274  \n",
      "campaign                   -0.066357  \n",
      "pdays                      -0.324914  \n",
      "previous                    0.230181  \n",
      "empVarRate                 -0.298334  \n",
      "consPriceIdx               -0.136211  \n",
      "consConfIdx                 0.054878  \n",
      "euribor3m                  -0.307771  \n",
      "nrEmployed                 -0.354678  \n",
      "job1                        0.025122  \n",
      "marital1                    0.046203  \n",
      "education1                  0.057799  \n",
      "default1                   -0.099352  \n",
      "housing1                    0.011552  \n",
      "loan1                      -0.004909  \n",
      "contact1                   -0.144773  \n",
      "month1                     -0.006065  \n",
      "dayOfWeek1                  0.015967  \n",
      "poutcome1                   0.129789  \n",
      "fixedTermDeposit1           1.000000  \n",
      "\n",
      "[21 rows x 21 columns]\n"
     ]
    }
   ],
   "source": [
    "#Realizar un analisis de correlacion para analizar las posibles correlaciones entre la variable dependiente y las dependientes\n",
    "correlationBank=bankData1.corr()\n",
    "print(correlationBank)"
   ]
  },
  {
   "cell_type": "code",
   "execution_count": 21,
   "metadata": {},
   "outputs": [
    {
     "name": "stdout",
     "output_type": "stream",
     "text": [
      "                     age      duration   campaign         pdays   previous  \\\n",
      "age           108.602451     -2.339147   0.132603    -66.945400   0.125661   \n",
      "duration       -2.339147  67225.728877 -51.494888  -2305.683015   2.648520   \n",
      "campaign        0.132603    -51.494888   7.672975     27.224921  -0.108494   \n",
      "pdays         -66.945400  -2305.683015  27.224921  34935.687284 -54.346448   \n",
      "previous        0.125661      2.648520  -0.108494    -54.346448   0.244927   \n",
      "empVarRate     -0.006069    -11.391802   0.656017     79.574823  -0.326918   \n",
      "consPriceIdx    0.005168      0.797272   0.204971      8.535132  -0.058190   \n",
      "consConfIdx     6.239801     -9.807412  -0.176061    -79.016677  -0.116670   \n",
      "euribor3m       0.194622    -14.793831   0.649236     96.250874  -0.390128   \n",
      "nrEmployed    -13.346160   -837.439866  28.838822   5031.877477 -17.926342   \n",
      "\n",
      "              empVarRate  consPriceIdx  consConfIdx   euribor3m   nrEmployed  \n",
      "age            -0.006069      0.005168     6.239801    0.194622   -13.346160  \n",
      "duration      -11.391802      0.797272    -9.807412  -14.793831  -837.439866  \n",
      "campaign        0.656017      0.204971    -0.176061    0.649236    28.838822  \n",
      "pdays          79.574823      8.535132   -79.016677   96.250874  5031.877477  \n",
      "previous       -0.326918     -0.058190    -0.116670   -0.390128   -17.926342  \n",
      "empVarRate      2.467915      0.705038     1.425360    2.649121   102.944953  \n",
      "consPriceIdx    0.705038      0.335056     0.158023    0.690961    21.832546  \n",
      "consConfIdx     1.425360      0.158023    21.420215    2.229089    33.611125  \n",
      "euribor3m       2.649121      0.690961     2.229089    3.008308   118.443421  \n",
      "nrEmployed    102.944953     21.832546    33.611125  118.443421  5220.283250  \n"
     ]
    }
   ],
   "source": [
    "#Realizar un análisis de covarianza\n",
    "covarianceBank = bankData.cov()\n",
    "print(covarianceBank)"
   ]
  },
  {
   "cell_type": "code",
   "execution_count": 22,
   "metadata": {},
   "outputs": [
    {
     "data": {
      "image/png": "[encoded data removed]",
      "text/plain": [
       "<Figure size 1080x1080 with 2 Axes>"
      ]
     },
     "metadata": {
      "needs_background": "light"
     },
     "output_type": "display_data"
    }
   ],
   "source": [
    "#Crear mapa de calor (heatmap) para analizar graficamen las posibles correlaciones entre la variable dependiente y las dependientes\n",
    "def drawheatmap(bankData1):\n",
    "    f, ax = plt.subplots(figsize=(15, 15))\n",
    "    sns.heatmap(bankData1.corr(method='spearman'), annot=False, cmap='coolwarm')\n",
    "drawheatmap(bankData1)"
   ]
  },
  {
   "cell_type": "markdown",
   "metadata": {},
   "source": [
    "Por medio del análisis de correlación, covarianza y mapa de color, se puede observar que no hay una relación lineal fuerte entre la variable dependiente (Deposito a plazo) y las diferentes variables dependientes. Estas herramientas sí nos permiten observar cierta colinearidad, es decir existe una correlación fuerte entre algunas variables predictoras."
   ]
  },
  {
   "cell_type": "markdown",
   "metadata": {},
   "source": [
    "## Exploratory Data Analysis "
   ]
  },
  {
   "cell_type": "markdown",
   "metadata": {},
   "source": [
    "## Dependent Variable: Fixed Term Deposit"
   ]
  },
  {
   "cell_type": "code",
   "execution_count": 313,
   "metadata": {},
   "outputs": [
    {
     "name": "stderr",
     "output_type": "stream",
     "text": [
      "C:\\Users\\FQ634EK\\AppData\\Local\\Continuum\\anaconda3\\lib\\site-packages\\seaborn\\categorical.py:3666: UserWarning: The `factorplot` function has been renamed to `catplot`. The original name will be removed in a future release. Please update your code. Note that the default `kind` in `factorplot` (`'point'`) has changed `'strip'` in `catplot`.\n",
      "  warnings.warn(msg)\n"
     ]
    },
    {
     "data": {
      "text/plain": [
       "<seaborn.axisgrid.FacetGrid at 0x2315387d2c8>"
      ]
     },
     "execution_count": 313,
     "metadata": {},
     "output_type": "execute_result"
    },
    {
     "data": {
      "image/png": "[encoded data removed]",
      "text/plain": [
       "<Figure size 720x360 with 1 Axes>"
      ]
     },
     "metadata": {
      "needs_background": "light"
     },
     "output_type": "display_data"
    }
   ],
   "source": [
    "#Grafico de barras para variable dependiente Fixed Term Deposit\n",
    "gbarFixedTermDeposit= sns.factorplot('fixedTermDeposit', data=bankData1, kind='count', aspect=2)\n",
    "gbarFixedTermDeposit.fig.suptitle('Fixed Term Deposit')\n",
    "gbarFixedTermDeposit.set_xlabels('Fixed Term Deposit')"
   ]
  },
  {
   "cell_type": "code",
   "execution_count": 314,
   "metadata": {},
   "outputs": [
    {
     "data": {
      "text/plain": [
       "fixedTermDeposit\n",
       "no     36548\n",
       "yes     4640\n",
       "Name: fixedTermDeposit, dtype: int64"
      ]
     },
     "execution_count": 314,
     "metadata": {},
     "output_type": "execute_result"
    }
   ],
   "source": [
    "#Agrupar y contabilizar por Fixed Term Deposit\n",
    "bankData1.groupby('fixedTermDeposit')['fixedTermDeposit'].count()"
   ]
  },
  {
   "cell_type": "code",
   "execution_count": 315,
   "metadata": {},
   "outputs": [
    {
     "data": {
      "image/png": "[encoded data removed]",
      "text/plain": [
       "<Figure size 720x576 with 1 Axes>"
      ]
     },
     "metadata": {},
     "output_type": "display_data"
    }
   ],
   "source": [
    "#Grafico de proporciones para Fixed Term Deposit\n",
    "labels = 'Yes', 'No'\n",
    "sizes = [4640,36548]\n",
    "fig1, DefaultDepositProp = plt.subplots()\n",
    "DefaultDepositProp.pie(sizes,labels=labels, autopct='%1.1f%%',\n",
    "        shadow=True, startangle=120)\n",
    "DefaultDepositProp.axis('equal')  # Equal aspect ratio ensures that pie is drawn as a circle.\n",
    "plt.show()"
   ]
  },
  {
   "cell_type": "markdown",
   "metadata": {},
   "source": [
    "Se puede observar una tasa baja de aceptación de los depositos a plazo, 11% vs una tasa de rechazo de 89%. Lo anterior justifica la necesidad de optimizar la focalización en torno a estrategias de marketing más efectivas."
   ]
  },
  {
   "cell_type": "markdown",
   "metadata": {},
   "source": [
    "## Independent Variable: Education"
   ]
  },
  {
   "cell_type": "code",
   "execution_count": 31,
   "metadata": {},
   "outputs": [
    {
     "data": {
      "image/png": "[encoded data removed]",
      "text/plain": [
       "<Figure size 720x576 with 1 Axes>"
      ]
     },
     "metadata": {
      "needs_background": "light"
     },
     "output_type": "display_data"
    }
   ],
   "source": [
    "#Grafico de barras para nivel academico\n",
    "plotEdu = pd.crosstab(index=bankData1['fixedTermDeposit'],\n",
    "            columns=bankData1['education']\n",
    "                  ).plot(kind='bar', stacked=False)"
   ]
  },
  {
   "cell_type": "code",
   "execution_count": 32,
   "metadata": {},
   "outputs": [
    {
     "data": {
      "text/html": [
       "<div>\n",
       "<style scoped>\n",
       "    .dataframe tbody tr th:only-of-type {\n",
       "        vertical-align: middle;\n",
       "    }\n",
       "\n",
       "    .dataframe tbody tr th {\n",
       "        vertical-align: top;\n",
       "    }\n",
       "\n",
       "    .dataframe thead th {\n",
       "        text-align: right;\n",
       "    }\n",
       "</style>\n",
       "<table border=\"1\" class=\"dataframe\">\n",
       "  <thead>\n",
       "    <tr style=\"text-align: right;\">\n",
       "      <th>fixedTermDeposit</th>\n",
       "      <th>no</th>\n",
       "      <th>yes</th>\n",
       "    </tr>\n",
       "    <tr>\n",
       "      <th>education</th>\n",
       "      <th></th>\n",
       "      <th></th>\n",
       "    </tr>\n",
       "  </thead>\n",
       "  <tbody>\n",
       "    <tr>\n",
       "      <td>basic.4y</td>\n",
       "      <td>3748</td>\n",
       "      <td>428</td>\n",
       "    </tr>\n",
       "    <tr>\n",
       "      <td>basic.6y</td>\n",
       "      <td>2104</td>\n",
       "      <td>188</td>\n",
       "    </tr>\n",
       "    <tr>\n",
       "      <td>basic.9y</td>\n",
       "      <td>5572</td>\n",
       "      <td>473</td>\n",
       "    </tr>\n",
       "    <tr>\n",
       "      <td>high.school</td>\n",
       "      <td>8484</td>\n",
       "      <td>1031</td>\n",
       "    </tr>\n",
       "    <tr>\n",
       "      <td>illiterate</td>\n",
       "      <td>14</td>\n",
       "      <td>4</td>\n",
       "    </tr>\n",
       "    <tr>\n",
       "      <td>professional.course</td>\n",
       "      <td>4648</td>\n",
       "      <td>595</td>\n",
       "    </tr>\n",
       "    <tr>\n",
       "      <td>university.degree</td>\n",
       "      <td>10498</td>\n",
       "      <td>1670</td>\n",
       "    </tr>\n",
       "    <tr>\n",
       "      <td>unknown</td>\n",
       "      <td>1480</td>\n",
       "      <td>251</td>\n",
       "    </tr>\n",
       "  </tbody>\n",
       "</table>\n",
       "</div>"
      ],
      "text/plain": [
       "fixedTermDeposit        no   yes\n",
       "education                       \n",
       "basic.4y              3748   428\n",
       "basic.6y              2104   188\n",
       "basic.9y              5572   473\n",
       "high.school           8484  1031\n",
       "illiterate              14     4\n",
       "professional.course   4648   595\n",
       "university.degree    10498  1670\n",
       "unknown               1480   251"
      ]
     },
     "execution_count": 32,
     "metadata": {},
     "output_type": "execute_result"
    }
   ],
   "source": [
    "#Agrupar y contabilizar por Fixed Term Deposit y Education\n",
    "eduFrec = pd.crosstab(bankData1['education'], bankData1['fixedTermDeposit'])\n",
    "eduFrec"
   ]
  },
  {
   "cell_type": "code",
   "execution_count": 33,
   "metadata": {},
   "outputs": [
    {
     "data": {
      "text/html": [
       "<div>\n",
       "<style scoped>\n",
       "    .dataframe tbody tr th:only-of-type {\n",
       "        vertical-align: middle;\n",
       "    }\n",
       "\n",
       "    .dataframe tbody tr th {\n",
       "        vertical-align: top;\n",
       "    }\n",
       "\n",
       "    .dataframe thead th {\n",
       "        text-align: right;\n",
       "    }\n",
       "</style>\n",
       "<table border=\"1\" class=\"dataframe\">\n",
       "  <thead>\n",
       "    <tr style=\"text-align: right;\">\n",
       "      <th>fixedTermDeposit</th>\n",
       "      <th>no</th>\n",
       "      <th>yes</th>\n",
       "    </tr>\n",
       "    <tr>\n",
       "      <th>education</th>\n",
       "      <th></th>\n",
       "      <th></th>\n",
       "    </tr>\n",
       "  </thead>\n",
       "  <tbody>\n",
       "    <tr>\n",
       "      <td>basic.4y</td>\n",
       "      <td>0.897510</td>\n",
       "      <td>0.102490</td>\n",
       "    </tr>\n",
       "    <tr>\n",
       "      <td>basic.6y</td>\n",
       "      <td>0.917976</td>\n",
       "      <td>0.082024</td>\n",
       "    </tr>\n",
       "    <tr>\n",
       "      <td>basic.9y</td>\n",
       "      <td>0.921754</td>\n",
       "      <td>0.078246</td>\n",
       "    </tr>\n",
       "    <tr>\n",
       "      <td>high.school</td>\n",
       "      <td>0.891645</td>\n",
       "      <td>0.108355</td>\n",
       "    </tr>\n",
       "    <tr>\n",
       "      <td>illiterate</td>\n",
       "      <td>0.777778</td>\n",
       "      <td>0.222222</td>\n",
       "    </tr>\n",
       "    <tr>\n",
       "      <td>professional.course</td>\n",
       "      <td>0.886515</td>\n",
       "      <td>0.113485</td>\n",
       "    </tr>\n",
       "    <tr>\n",
       "      <td>university.degree</td>\n",
       "      <td>0.862755</td>\n",
       "      <td>0.137245</td>\n",
       "    </tr>\n",
       "    <tr>\n",
       "      <td>unknown</td>\n",
       "      <td>0.854997</td>\n",
       "      <td>0.145003</td>\n",
       "    </tr>\n",
       "  </tbody>\n",
       "</table>\n",
       "</div>"
      ],
      "text/plain": [
       "fixedTermDeposit           no       yes\n",
       "education                              \n",
       "basic.4y             0.897510  0.102490\n",
       "basic.6y             0.917976  0.082024\n",
       "basic.9y             0.921754  0.078246\n",
       "high.school          0.891645  0.108355\n",
       "illiterate           0.777778  0.222222\n",
       "professional.course  0.886515  0.113485\n",
       "university.degree    0.862755  0.137245\n",
       "unknown              0.854997  0.145003"
      ]
     },
     "execution_count": 33,
     "metadata": {},
     "output_type": "execute_result"
    }
   ],
   "source": [
    "#Proporcion por Fixed Term Deposit y Education\n",
    "eduProp=bankData1.groupby(\"education\")['fixedTermDeposit'].value_counts(normalize=True).unstack()\n",
    "eduProp"
   ]
  },
  {
   "cell_type": "code",
   "execution_count": 34,
   "metadata": {},
   "outputs": [
    {
     "data": {
      "text/plain": [
       "<matplotlib.axes._subplots.AxesSubplot at 0x23152da42c8>"
      ]
     },
     "execution_count": 34,
     "metadata": {},
     "output_type": "execute_result"
    },
    {
     "data": {
      "image/png": "[encoded data removed]",
      "text/plain": [
       "<Figure size 720x576 with 1 Axes>"
      ]
     },
     "metadata": {
      "needs_background": "light"
     },
     "output_type": "display_data"
    }
   ],
   "source": [
    "#Grafico de barras\n",
    "eduProp.plot(kind='bar', stacked='True')"
   ]
  },
  {
   "cell_type": "code",
   "execution_count": 35,
   "metadata": {},
   "outputs": [
    {
     "data": {
      "image/png": "[encoded data removed]",
      "text/plain": [
       "<Figure size 720x576 with 1 Axes>"
      ]
     },
     "metadata": {
      "needs_background": "light"
     },
     "output_type": "display_data"
    }
   ],
   "source": [
    "#Grafico de barras\n",
    "plotEdu1 = pd.crosstab(index=bankData1['fixedTermDeposit'],\n",
    "            columns=bankData1['education']\n",
    "                  ).plot(kind='bar', stacked=True)"
   ]
  },
  {
   "cell_type": "code",
   "execution_count": 36,
   "metadata": {
    "scrolled": true
   },
   "outputs": [
    {
     "data": {
      "text/plain": [
       "(                    fixedTermDeposit                \n",
       "                                   no     yes     All\n",
       " education                                           \n",
       " basic.4y                       10.26    9.22   10.14\n",
       " basic.6y                        5.76    4.05    5.56\n",
       " basic.9y                       15.25   10.19   14.68\n",
       " high.school                    23.21   22.22   23.10\n",
       " illiterate                      0.04    0.09    0.04\n",
       " professional.course            12.72   12.82   12.73\n",
       " university.degree              28.72   35.99   29.54\n",
       " unknown                         4.05    5.41    4.20\n",
       " All                           100.00  100.00  100.00,\n",
       "                 Chi-square test   results\n",
       " 0  Pearson Chi-square ( 7.0) =   193.1059\n",
       " 1                    p-value =     0.0000\n",
       " 2                 Cramer's V =     0.0685)"
      ]
     },
     "execution_count": 36,
     "metadata": {},
     "output_type": "execute_result"
    }
   ],
   "source": [
    "#Prueba de indepedencia Chi Cuadrado\n",
    "eduTest= rp.crosstab(bankData1['education'], bankData1['fixedTermDeposit'], prop= 'col', test= 'chi-square')  \n",
    "eduTest"
   ]
  },
  {
   "cell_type": "markdown",
   "metadata": {},
   "source": [
    "Graficamente se observa una diferencia significativa en la tasa de aceptación del deposito dependiendo del nivel educativo. Complementariamente a los graficos, la prueba de hipotesis chi nos muestra que hay una dependencia significativa entre la variable educación y la variable a predecir. \n",
    "Aquellos clientes con grados de university y unknown son los que muestran proporcionalmente mayor aceptación a los depositos a plazo con porcentajes de 14% aproximadamente."
   ]
  },
  {
   "cell_type": "markdown",
   "metadata": {},
   "source": [
    "## Independent Variable:Contact Method"
   ]
  },
  {
   "cell_type": "code",
   "execution_count": 66,
   "metadata": {},
   "outputs": [
    {
     "data": {
      "image/png": "[encoded data removed]",
      "text/plain": [
       "<Figure size 720x576 with 1 Axes>"
      ]
     },
     "metadata": {
      "needs_background": "light"
     },
     "output_type": "display_data"
    }
   ],
   "source": [
    "#Grafico de barras para metodo de contacto\n",
    "plotJob = pd.crosstab(index=bankData1['fixedTermDeposit'],\n",
    "            columns=bankData1['contact']\n",
    "                  ).plot(kind='bar', stacked=False)"
   ]
  },
  {
   "cell_type": "code",
   "execution_count": 38,
   "metadata": {},
   "outputs": [
    {
     "data": {
      "text/html": [
       "<div>\n",
       "<style scoped>\n",
       "    .dataframe tbody tr th:only-of-type {\n",
       "        vertical-align: middle;\n",
       "    }\n",
       "\n",
       "    .dataframe tbody tr th {\n",
       "        vertical-align: top;\n",
       "    }\n",
       "\n",
       "    .dataframe thead th {\n",
       "        text-align: right;\n",
       "    }\n",
       "</style>\n",
       "<table border=\"1\" class=\"dataframe\">\n",
       "  <thead>\n",
       "    <tr style=\"text-align: right;\">\n",
       "      <th>fixedTermDeposit</th>\n",
       "      <th>no</th>\n",
       "      <th>yes</th>\n",
       "    </tr>\n",
       "    <tr>\n",
       "      <th>contact</th>\n",
       "      <th></th>\n",
       "      <th></th>\n",
       "    </tr>\n",
       "  </thead>\n",
       "  <tbody>\n",
       "    <tr>\n",
       "      <td>cellular</td>\n",
       "      <td>22291</td>\n",
       "      <td>3853</td>\n",
       "    </tr>\n",
       "    <tr>\n",
       "      <td>telephone</td>\n",
       "      <td>14257</td>\n",
       "      <td>787</td>\n",
       "    </tr>\n",
       "  </tbody>\n",
       "</table>\n",
       "</div>"
      ],
      "text/plain": [
       "fixedTermDeposit     no   yes\n",
       "contact                      \n",
       "cellular          22291  3853\n",
       "telephone         14257   787"
      ]
     },
     "execution_count": 38,
     "metadata": {},
     "output_type": "execute_result"
    }
   ],
   "source": [
    "#Agrupar y contabilizar por Contact Method\n",
    "metFrec = pd.crosstab(bankData1['contact'], bankData1['fixedTermDeposit'])\n",
    "metFrec"
   ]
  },
  {
   "cell_type": "code",
   "execution_count": 39,
   "metadata": {},
   "outputs": [
    {
     "data": {
      "text/html": [
       "<div>\n",
       "<style scoped>\n",
       "    .dataframe tbody tr th:only-of-type {\n",
       "        vertical-align: middle;\n",
       "    }\n",
       "\n",
       "    .dataframe tbody tr th {\n",
       "        vertical-align: top;\n",
       "    }\n",
       "\n",
       "    .dataframe thead th {\n",
       "        text-align: right;\n",
       "    }\n",
       "</style>\n",
       "<table border=\"1\" class=\"dataframe\">\n",
       "  <thead>\n",
       "    <tr style=\"text-align: right;\">\n",
       "      <th>fixedTermDeposit</th>\n",
       "      <th>no</th>\n",
       "      <th>yes</th>\n",
       "    </tr>\n",
       "    <tr>\n",
       "      <th>contact</th>\n",
       "      <th></th>\n",
       "      <th></th>\n",
       "    </tr>\n",
       "  </thead>\n",
       "  <tbody>\n",
       "    <tr>\n",
       "      <td>cellular</td>\n",
       "      <td>0.852624</td>\n",
       "      <td>0.147376</td>\n",
       "    </tr>\n",
       "    <tr>\n",
       "      <td>telephone</td>\n",
       "      <td>0.947687</td>\n",
       "      <td>0.052313</td>\n",
       "    </tr>\n",
       "  </tbody>\n",
       "</table>\n",
       "</div>"
      ],
      "text/plain": [
       "fixedTermDeposit        no       yes\n",
       "contact                             \n",
       "cellular          0.852624  0.147376\n",
       "telephone         0.947687  0.052313"
      ]
     },
     "execution_count": 39,
     "metadata": {},
     "output_type": "execute_result"
    }
   ],
   "source": [
    "#Proporcion por Fixed Term Deposit y Education\n",
    "metProp=bankData1.groupby(\"contact\")['fixedTermDeposit'].value_counts(normalize=True).unstack()\n",
    "metProp"
   ]
  },
  {
   "cell_type": "code",
   "execution_count": 361,
   "metadata": {},
   "outputs": [
    {
     "data": {
      "text/plain": [
       "<matplotlib.axes._subplots.AxesSubplot at 0x23153a3abc8>"
      ]
     },
     "execution_count": 361,
     "metadata": {},
     "output_type": "execute_result"
    },
    {
     "data": {
      "image/png": "[encoded data removed]",
      "text/plain": [
       "<Figure size 720x576 with 1 Axes>"
      ]
     },
     "metadata": {
      "needs_background": "light"
     },
     "output_type": "display_data"
    }
   ],
   "source": [
    "#Grafico de barras\n",
    "metProp.plot(kind='bar', stacked='True')"
   ]
  },
  {
   "cell_type": "code",
   "execution_count": 41,
   "metadata": {
    "scrolled": false
   },
   "outputs": [
    {
     "data": {
      "text/plain": [
       "(          fixedTermDeposit                \n",
       "                         no     yes     All\n",
       " contact                                   \n",
       " cellular             60.99   83.04   63.47\n",
       " telephone            39.01   16.96   36.53\n",
       " All                 100.00  100.00  100.00,\n",
       "                 Chi-square test   results\n",
       " 0  Pearson Chi-square ( 1.0) =   863.2691\n",
       " 1                    p-value =     0.0000\n",
       " 2               Cramer's phi =     0.1448)"
      ]
     },
     "execution_count": 41,
     "metadata": {},
     "output_type": "execute_result"
    }
   ],
   "source": [
    "#Prueba de indepedencia Chi Cuadrado\n",
    "metTest= rp.crosstab(bankData1['contact'], bankData1['fixedTermDeposit'], prop= 'col', test= 'chi-square')  \n",
    "metTest"
   ]
  },
  {
   "cell_type": "markdown",
   "metadata": {},
   "source": [
    "La mayoría de los clientes se contactan por medio de celular. Además proporcionalmente un 15% de las personas que se contactan por celular aceptan el deposito a plazo mientras que un 5% lo hacen por teléfono."
   ]
  },
  {
   "cell_type": "markdown",
   "metadata": {},
   "source": [
    "## Independent Variable: Weekday"
   ]
  },
  {
   "cell_type": "code",
   "execution_count": 67,
   "metadata": {},
   "outputs": [
    {
     "data": {
      "image/png": "[encoded data removed]",
      "text/plain": [
       "<Figure size 720x576 with 1 Axes>"
      ]
     },
     "metadata": {
      "needs_background": "light"
     },
     "output_type": "display_data"
    }
   ],
   "source": [
    "#Grafico de barras para día de la semana\n",
    "plotJob = pd.crosstab(index=bankData1['fixedTermDeposit'],\n",
    "            columns=bankData1['dayOfWeek']\n",
    "                  ).plot(kind='bar', stacked=False)"
   ]
  },
  {
   "cell_type": "code",
   "execution_count": 43,
   "metadata": {},
   "outputs": [
    {
     "data": {
      "text/html": [
       "<div>\n",
       "<style scoped>\n",
       "    .dataframe tbody tr th:only-of-type {\n",
       "        vertical-align: middle;\n",
       "    }\n",
       "\n",
       "    .dataframe tbody tr th {\n",
       "        vertical-align: top;\n",
       "    }\n",
       "\n",
       "    .dataframe thead th {\n",
       "        text-align: right;\n",
       "    }\n",
       "</style>\n",
       "<table border=\"1\" class=\"dataframe\">\n",
       "  <thead>\n",
       "    <tr style=\"text-align: right;\">\n",
       "      <th>fixedTermDeposit</th>\n",
       "      <th>no</th>\n",
       "      <th>yes</th>\n",
       "    </tr>\n",
       "    <tr>\n",
       "      <th>dayOfWeek</th>\n",
       "      <th></th>\n",
       "      <th></th>\n",
       "    </tr>\n",
       "  </thead>\n",
       "  <tbody>\n",
       "    <tr>\n",
       "      <td>fri</td>\n",
       "      <td>6981</td>\n",
       "      <td>846</td>\n",
       "    </tr>\n",
       "    <tr>\n",
       "      <td>mon</td>\n",
       "      <td>7667</td>\n",
       "      <td>847</td>\n",
       "    </tr>\n",
       "    <tr>\n",
       "      <td>thu</td>\n",
       "      <td>7578</td>\n",
       "      <td>1045</td>\n",
       "    </tr>\n",
       "    <tr>\n",
       "      <td>tue</td>\n",
       "      <td>7137</td>\n",
       "      <td>953</td>\n",
       "    </tr>\n",
       "    <tr>\n",
       "      <td>wed</td>\n",
       "      <td>7185</td>\n",
       "      <td>949</td>\n",
       "    </tr>\n",
       "  </tbody>\n",
       "</table>\n",
       "</div>"
      ],
      "text/plain": [
       "fixedTermDeposit    no   yes\n",
       "dayOfWeek                   \n",
       "fri               6981   846\n",
       "mon               7667   847\n",
       "thu               7578  1045\n",
       "tue               7137   953\n",
       "wed               7185   949"
      ]
     },
     "execution_count": 43,
     "metadata": {},
     "output_type": "execute_result"
    }
   ],
   "source": [
    "#Agrupar y contabilizar por Contact Method\n",
    "dayFrec = pd.crosstab(bankData1['dayOfWeek'], bankData1['fixedTermDeposit'])\n",
    "dayFrec"
   ]
  },
  {
   "cell_type": "code",
   "execution_count": 44,
   "metadata": {},
   "outputs": [
    {
     "data": {
      "text/html": [
       "<div>\n",
       "<style scoped>\n",
       "    .dataframe tbody tr th:only-of-type {\n",
       "        vertical-align: middle;\n",
       "    }\n",
       "\n",
       "    .dataframe tbody tr th {\n",
       "        vertical-align: top;\n",
       "    }\n",
       "\n",
       "    .dataframe thead th {\n",
       "        text-align: right;\n",
       "    }\n",
       "</style>\n",
       "<table border=\"1\" class=\"dataframe\">\n",
       "  <thead>\n",
       "    <tr style=\"text-align: right;\">\n",
       "      <th>fixedTermDeposit</th>\n",
       "      <th>no</th>\n",
       "      <th>yes</th>\n",
       "    </tr>\n",
       "    <tr>\n",
       "      <th>dayOfWeek</th>\n",
       "      <th></th>\n",
       "      <th></th>\n",
       "    </tr>\n",
       "  </thead>\n",
       "  <tbody>\n",
       "    <tr>\n",
       "      <td>fri</td>\n",
       "      <td>0.891913</td>\n",
       "      <td>0.108087</td>\n",
       "    </tr>\n",
       "    <tr>\n",
       "      <td>mon</td>\n",
       "      <td>0.900517</td>\n",
       "      <td>0.099483</td>\n",
       "    </tr>\n",
       "    <tr>\n",
       "      <td>thu</td>\n",
       "      <td>0.878812</td>\n",
       "      <td>0.121188</td>\n",
       "    </tr>\n",
       "    <tr>\n",
       "      <td>tue</td>\n",
       "      <td>0.882200</td>\n",
       "      <td>0.117800</td>\n",
       "    </tr>\n",
       "    <tr>\n",
       "      <td>wed</td>\n",
       "      <td>0.883329</td>\n",
       "      <td>0.116671</td>\n",
       "    </tr>\n",
       "  </tbody>\n",
       "</table>\n",
       "</div>"
      ],
      "text/plain": [
       "fixedTermDeposit        no       yes\n",
       "dayOfWeek                           \n",
       "fri               0.891913  0.108087\n",
       "mon               0.900517  0.099483\n",
       "thu               0.878812  0.121188\n",
       "tue               0.882200  0.117800\n",
       "wed               0.883329  0.116671"
      ]
     },
     "execution_count": 44,
     "metadata": {},
     "output_type": "execute_result"
    }
   ],
   "source": [
    "#Proporcion por Fixed Term Deposit y Education\n",
    "dayProp=bankData1.groupby(\"dayOfWeek\")['fixedTermDeposit'].value_counts(normalize=True).unstack()\n",
    "dayProp"
   ]
  },
  {
   "cell_type": "code",
   "execution_count": 45,
   "metadata": {
    "scrolled": false
   },
   "outputs": [
    {
     "data": {
      "text/plain": [
       "<matplotlib.axes._subplots.AxesSubplot at 0x23153d33e48>"
      ]
     },
     "execution_count": 45,
     "metadata": {},
     "output_type": "execute_result"
    },
    {
     "data": {
      "image/png": "[encoded data removed]",
      "text/plain": [
       "<Figure size 720x576 with 1 Axes>"
      ]
     },
     "metadata": {
      "needs_background": "light"
     },
     "output_type": "display_data"
    }
   ],
   "source": [
    "#Grafico de barras\n",
    "dayProp.plot(kind='bar', stacked='True')"
   ]
  },
  {
   "cell_type": "code",
   "execution_count": 362,
   "metadata": {},
   "outputs": [
    {
     "data": {
      "text/plain": [
       "(          fixedTermDeposit                \n",
       "                         no     yes     All\n",
       " dayOfWeek                                 \n",
       " fri                  19.10   18.23   19.00\n",
       " mon                  20.98   18.25   20.67\n",
       " thu                  20.73   22.52   20.94\n",
       " tue                  19.53   20.54   19.64\n",
       " wed                  19.66   20.45   19.75\n",
       " All                 100.00  100.00  100.00,\n",
       "                 Chi-square test  results\n",
       " 0  Pearson Chi-square ( 4.0) =   26.1449\n",
       " 1                    p-value =    0.0000\n",
       " 2                 Cramer's V =    0.0252)"
      ]
     },
     "execution_count": 362,
     "metadata": {},
     "output_type": "execute_result"
    }
   ],
   "source": [
    "#Prueba de indepedencia Chi Cuadrado\n",
    "dayTest= rp.crosstab(bankData1['dayOfWeek'], bankData1['fixedTermDeposit'], prop= 'col', test= 'chi-square')  \n",
    "dayTest"
   ]
  },
  {
   "cell_type": "code",
   "execution_count": 344,
   "metadata": {},
   "outputs": [
    {
     "data": {
      "text/plain": [
       "<statsmodels.stats.base.AllPairsResults at 0x23153516848>"
      ]
     },
     "execution_count": 344,
     "metadata": {},
     "output_type": "execute_result"
    }
   ],
   "source": [
    "#Prueba de proporciones\n",
    "countday= np.array([846,847,1045,953,949])\n",
    "nobsday = np.array([8514,8090,8134,8623,7827])\n",
    "statsmodels.stats.proportion.proportions_chisquare_allpairs(countday, nobsday, multitest_method='hs')"
   ]
  },
  {
   "cell_type": "markdown",
   "metadata": {},
   "source": [
    "Gráficamente no se observa una diferencia significativa en la tasa de aceptación del deposito dependiendo del día de la semana en que se contactan a las personas. En promedio la aceptación de depositos a plazo diaria es de un 11%. Complementariamente a los gráficos, la prueba de hipótesis chi realizada nos muestra que con nivel de confianza del 95% hay una dependencia significativa entre la variable día y la variable a predecir."
   ]
  },
  {
   "cell_type": "markdown",
   "metadata": {},
   "source": [
    "## Independent Variable: Month"
   ]
  },
  {
   "cell_type": "code",
   "execution_count": 47,
   "metadata": {},
   "outputs": [
    {
     "data": {
      "text/plain": [
       "Text(0.5, 0.98, 'Month')"
      ]
     },
     "execution_count": 47,
     "metadata": {},
     "output_type": "execute_result"
    },
    {
     "data": {
      "image/png": "[encoded data removed]",
      "text/plain": [
       "<Figure size 720x360 with 1 Axes>"
      ]
     },
     "metadata": {
      "needs_background": "light"
     },
     "output_type": "display_data"
    }
   ],
   "source": [
    "#Grafico de barras para mes\n",
    "gbarMonth= sns.factorplot('month', data=bankData1, kind='count', aspect=2, order=['jan','feb','mar','apr','may','jun','jul','aug','sep','oct','nov','dec'])\n",
    "gbarMonth.set_xlabels('Month')\n",
    "gbarMonth.set_ylabels('Frecuency')\n",
    "gbarMonth.fig.suptitle('Month')"
   ]
  },
  {
   "cell_type": "code",
   "execution_count": 48,
   "metadata": {},
   "outputs": [
    {
     "data": {
      "text/html": [
       "<div>\n",
       "<style scoped>\n",
       "    .dataframe tbody tr th:only-of-type {\n",
       "        vertical-align: middle;\n",
       "    }\n",
       "\n",
       "    .dataframe tbody tr th {\n",
       "        vertical-align: top;\n",
       "    }\n",
       "\n",
       "    .dataframe thead th {\n",
       "        text-align: right;\n",
       "    }\n",
       "</style>\n",
       "<table border=\"1\" class=\"dataframe\">\n",
       "  <thead>\n",
       "    <tr style=\"text-align: right;\">\n",
       "      <th>fixedTermDeposit</th>\n",
       "      <th>no</th>\n",
       "      <th>yes</th>\n",
       "    </tr>\n",
       "    <tr>\n",
       "      <th>month</th>\n",
       "      <th></th>\n",
       "      <th></th>\n",
       "    </tr>\n",
       "  </thead>\n",
       "  <tbody>\n",
       "    <tr>\n",
       "      <td>apr</td>\n",
       "      <td>2093</td>\n",
       "      <td>539</td>\n",
       "    </tr>\n",
       "    <tr>\n",
       "      <td>aug</td>\n",
       "      <td>5523</td>\n",
       "      <td>655</td>\n",
       "    </tr>\n",
       "    <tr>\n",
       "      <td>dec</td>\n",
       "      <td>93</td>\n",
       "      <td>89</td>\n",
       "    </tr>\n",
       "    <tr>\n",
       "      <td>jul</td>\n",
       "      <td>6525</td>\n",
       "      <td>649</td>\n",
       "    </tr>\n",
       "    <tr>\n",
       "      <td>jun</td>\n",
       "      <td>4759</td>\n",
       "      <td>559</td>\n",
       "    </tr>\n",
       "    <tr>\n",
       "      <td>mar</td>\n",
       "      <td>270</td>\n",
       "      <td>276</td>\n",
       "    </tr>\n",
       "    <tr>\n",
       "      <td>may</td>\n",
       "      <td>12883</td>\n",
       "      <td>886</td>\n",
       "    </tr>\n",
       "    <tr>\n",
       "      <td>nov</td>\n",
       "      <td>3685</td>\n",
       "      <td>416</td>\n",
       "    </tr>\n",
       "    <tr>\n",
       "      <td>oct</td>\n",
       "      <td>403</td>\n",
       "      <td>315</td>\n",
       "    </tr>\n",
       "    <tr>\n",
       "      <td>sep</td>\n",
       "      <td>314</td>\n",
       "      <td>256</td>\n",
       "    </tr>\n",
       "  </tbody>\n",
       "</table>\n",
       "</div>"
      ],
      "text/plain": [
       "fixedTermDeposit     no  yes\n",
       "month                       \n",
       "apr                2093  539\n",
       "aug                5523  655\n",
       "dec                  93   89\n",
       "jul                6525  649\n",
       "jun                4759  559\n",
       "mar                 270  276\n",
       "may               12883  886\n",
       "nov                3685  416\n",
       "oct                 403  315\n",
       "sep                 314  256"
      ]
     },
     "execution_count": 48,
     "metadata": {},
     "output_type": "execute_result"
    }
   ],
   "source": [
    "#Agrupar y contabilizar por mes\n",
    "monthFrec = pd.crosstab(bankData1['month'], bankData1['fixedTermDeposit'])\n",
    "monthFrec"
   ]
  },
  {
   "cell_type": "code",
   "execution_count": 317,
   "metadata": {},
   "outputs": [
    {
     "data": {
      "text/html": [
       "<div>\n",
       "<style scoped>\n",
       "    .dataframe tbody tr th:only-of-type {\n",
       "        vertical-align: middle;\n",
       "    }\n",
       "\n",
       "    .dataframe tbody tr th {\n",
       "        vertical-align: top;\n",
       "    }\n",
       "\n",
       "    .dataframe thead th {\n",
       "        text-align: right;\n",
       "    }\n",
       "</style>\n",
       "<table border=\"1\" class=\"dataframe\">\n",
       "  <thead>\n",
       "    <tr style=\"text-align: right;\">\n",
       "      <th>fixedTermDeposit</th>\n",
       "      <th>no</th>\n",
       "      <th>yes</th>\n",
       "    </tr>\n",
       "    <tr>\n",
       "      <th>month</th>\n",
       "      <th></th>\n",
       "      <th></th>\n",
       "    </tr>\n",
       "  </thead>\n",
       "  <tbody>\n",
       "    <tr>\n",
       "      <td>apr</td>\n",
       "      <td>0.795213</td>\n",
       "      <td>0.204787</td>\n",
       "    </tr>\n",
       "    <tr>\n",
       "      <td>aug</td>\n",
       "      <td>0.893979</td>\n",
       "      <td>0.106021</td>\n",
       "    </tr>\n",
       "    <tr>\n",
       "      <td>dec</td>\n",
       "      <td>0.510989</td>\n",
       "      <td>0.489011</td>\n",
       "    </tr>\n",
       "    <tr>\n",
       "      <td>jul</td>\n",
       "      <td>0.909534</td>\n",
       "      <td>0.090466</td>\n",
       "    </tr>\n",
       "    <tr>\n",
       "      <td>jun</td>\n",
       "      <td>0.894885</td>\n",
       "      <td>0.105115</td>\n",
       "    </tr>\n",
       "    <tr>\n",
       "      <td>mar</td>\n",
       "      <td>0.494505</td>\n",
       "      <td>0.505495</td>\n",
       "    </tr>\n",
       "    <tr>\n",
       "      <td>may</td>\n",
       "      <td>0.935653</td>\n",
       "      <td>0.064347</td>\n",
       "    </tr>\n",
       "    <tr>\n",
       "      <td>nov</td>\n",
       "      <td>0.898561</td>\n",
       "      <td>0.101439</td>\n",
       "    </tr>\n",
       "    <tr>\n",
       "      <td>oct</td>\n",
       "      <td>0.561281</td>\n",
       "      <td>0.438719</td>\n",
       "    </tr>\n",
       "    <tr>\n",
       "      <td>sep</td>\n",
       "      <td>0.550877</td>\n",
       "      <td>0.449123</td>\n",
       "    </tr>\n",
       "  </tbody>\n",
       "</table>\n",
       "</div>"
      ],
      "text/plain": [
       "fixedTermDeposit        no       yes\n",
       "month                               \n",
       "apr               0.795213  0.204787\n",
       "aug               0.893979  0.106021\n",
       "dec               0.510989  0.489011\n",
       "jul               0.909534  0.090466\n",
       "jun               0.894885  0.105115\n",
       "mar               0.494505  0.505495\n",
       "may               0.935653  0.064347\n",
       "nov               0.898561  0.101439\n",
       "oct               0.561281  0.438719\n",
       "sep               0.550877  0.449123"
      ]
     },
     "execution_count": 317,
     "metadata": {},
     "output_type": "execute_result"
    }
   ],
   "source": [
    "bankData1.groupby(\"month\")['fixedTermDeposit'].value_counts(normalize=True).unstack()"
   ]
  },
  {
   "cell_type": "markdown",
   "metadata": {},
   "source": [
    "El mes donde se realizan más llamadas es mayo, sin embargo este mes es el que muestra una de las tasas de aceptación más bajas con un 6%. Proporcionalmente los meses de marzo, septiembre, octubre y diciembre son los que proporcionalmente muestran mejores tasas de aceptación por lo que sería importante aumentar el volumen de llamadas durante estos meses."
   ]
  },
  {
   "cell_type": "markdown",
   "metadata": {},
   "source": [
    "## Independent Variable: Marital Status"
   ]
  },
  {
   "cell_type": "code",
   "execution_count": 68,
   "metadata": {},
   "outputs": [
    {
     "data": {
      "image/png": "[encoded data removed]",
      "text/plain": [
       "<Figure size 720x576 with 1 Axes>"
      ]
     },
     "metadata": {
      "needs_background": "light"
     },
     "output_type": "display_data"
    }
   ],
   "source": [
    "#Grafico de barras para estatus civil\n",
    "plotJob = pd.crosstab(index=bankData1['fixedTermDeposit'],\n",
    "            columns=bankData1['marital']\n",
    "                  ).plot(kind='bar', stacked=False)"
   ]
  },
  {
   "cell_type": "code",
   "execution_count": 50,
   "metadata": {},
   "outputs": [
    {
     "data": {
      "text/html": [
       "<div>\n",
       "<style scoped>\n",
       "    .dataframe tbody tr th:only-of-type {\n",
       "        vertical-align: middle;\n",
       "    }\n",
       "\n",
       "    .dataframe tbody tr th {\n",
       "        vertical-align: top;\n",
       "    }\n",
       "\n",
       "    .dataframe thead th {\n",
       "        text-align: right;\n",
       "    }\n",
       "</style>\n",
       "<table border=\"1\" class=\"dataframe\">\n",
       "  <thead>\n",
       "    <tr style=\"text-align: right;\">\n",
       "      <th>fixedTermDeposit</th>\n",
       "      <th>no</th>\n",
       "      <th>yes</th>\n",
       "    </tr>\n",
       "    <tr>\n",
       "      <th>marital</th>\n",
       "      <th></th>\n",
       "      <th></th>\n",
       "    </tr>\n",
       "  </thead>\n",
       "  <tbody>\n",
       "    <tr>\n",
       "      <td>divorced</td>\n",
       "      <td>4136</td>\n",
       "      <td>476</td>\n",
       "    </tr>\n",
       "    <tr>\n",
       "      <td>married</td>\n",
       "      <td>22396</td>\n",
       "      <td>2532</td>\n",
       "    </tr>\n",
       "    <tr>\n",
       "      <td>single</td>\n",
       "      <td>9948</td>\n",
       "      <td>1620</td>\n",
       "    </tr>\n",
       "    <tr>\n",
       "      <td>unknown</td>\n",
       "      <td>68</td>\n",
       "      <td>12</td>\n",
       "    </tr>\n",
       "  </tbody>\n",
       "</table>\n",
       "</div>"
      ],
      "text/plain": [
       "fixedTermDeposit     no   yes\n",
       "marital                      \n",
       "divorced           4136   476\n",
       "married           22396  2532\n",
       "single             9948  1620\n",
       "unknown              68    12"
      ]
     },
     "execution_count": 50,
     "metadata": {},
     "output_type": "execute_result"
    }
   ],
   "source": [
    "#Agrupar y contabilizar por Fixed Term Deposit y Marital\n",
    "marFrec = pd.crosstab(bankData1['marital'], bankData1['fixedTermDeposit'])\n",
    "marFrec"
   ]
  },
  {
   "cell_type": "code",
   "execution_count": 51,
   "metadata": {},
   "outputs": [
    {
     "data": {
      "text/html": [
       "<div>\n",
       "<style scoped>\n",
       "    .dataframe tbody tr th:only-of-type {\n",
       "        vertical-align: middle;\n",
       "    }\n",
       "\n",
       "    .dataframe tbody tr th {\n",
       "        vertical-align: top;\n",
       "    }\n",
       "\n",
       "    .dataframe thead th {\n",
       "        text-align: right;\n",
       "    }\n",
       "</style>\n",
       "<table border=\"1\" class=\"dataframe\">\n",
       "  <thead>\n",
       "    <tr style=\"text-align: right;\">\n",
       "      <th>fixedTermDeposit</th>\n",
       "      <th>no</th>\n",
       "      <th>yes</th>\n",
       "    </tr>\n",
       "    <tr>\n",
       "      <th>marital</th>\n",
       "      <th></th>\n",
       "      <th></th>\n",
       "    </tr>\n",
       "  </thead>\n",
       "  <tbody>\n",
       "    <tr>\n",
       "      <td>divorced</td>\n",
       "      <td>0.896791</td>\n",
       "      <td>0.103209</td>\n",
       "    </tr>\n",
       "    <tr>\n",
       "      <td>married</td>\n",
       "      <td>0.898427</td>\n",
       "      <td>0.101573</td>\n",
       "    </tr>\n",
       "    <tr>\n",
       "      <td>single</td>\n",
       "      <td>0.859959</td>\n",
       "      <td>0.140041</td>\n",
       "    </tr>\n",
       "    <tr>\n",
       "      <td>unknown</td>\n",
       "      <td>0.850000</td>\n",
       "      <td>0.150000</td>\n",
       "    </tr>\n",
       "  </tbody>\n",
       "</table>\n",
       "</div>"
      ],
      "text/plain": [
       "fixedTermDeposit        no       yes\n",
       "marital                             \n",
       "divorced          0.896791  0.103209\n",
       "married           0.898427  0.101573\n",
       "single            0.859959  0.140041\n",
       "unknown           0.850000  0.150000"
      ]
     },
     "execution_count": 51,
     "metadata": {},
     "output_type": "execute_result"
    }
   ],
   "source": [
    "#Proporcion por Fixed Term Deposit y Marital\n",
    "marProp=bankData1.groupby(\"marital\")['fixedTermDeposit'].value_counts(normalize=True).unstack()\n",
    "marProp\n"
   ]
  },
  {
   "cell_type": "code",
   "execution_count": 52,
   "metadata": {},
   "outputs": [
    {
     "data": {
      "text/plain": [
       "<matplotlib.axes._subplots.AxesSubplot at 0x23153d72748>"
      ]
     },
     "execution_count": 52,
     "metadata": {},
     "output_type": "execute_result"
    },
    {
     "data": {
      "image/png": "[encoded data removed]",
      "text/plain": [
       "<Figure size 720x576 with 1 Axes>"
      ]
     },
     "metadata": {
      "needs_background": "light"
     },
     "output_type": "display_data"
    }
   ],
   "source": [
    "#Grafico de barras\n",
    "marProp.plot(kind='bar', stacked='True')"
   ]
  },
  {
   "cell_type": "code",
   "execution_count": 54,
   "metadata": {},
   "outputs": [
    {
     "data": {
      "text/plain": [
       "(         fixedTermDeposit                \n",
       "                        no     yes     All\n",
       " marital                                  \n",
       " divorced            11.32   10.26   11.20\n",
       " married             61.28   54.57   60.52\n",
       " single              27.22   34.91   28.09\n",
       " unknown              0.19    0.26    0.19\n",
       " All                100.00  100.00  100.00,\n",
       "                 Chi-square test   results\n",
       " 0  Pearson Chi-square ( 3.0) =   122.6552\n",
       " 1                    p-value =     0.0000\n",
       " 2                 Cramer's V =     0.0546)"
      ]
     },
     "execution_count": 54,
     "metadata": {},
     "output_type": "execute_result"
    }
   ],
   "source": [
    "#Prueba de indepedencia Chi Cuadrado\n",
    "dayTest= rp.crosstab(bankData1['marital'], bankData1['fixedTermDeposit'], prop= 'col', test= 'chi-square')  \n",
    "dayTest"
   ]
  },
  {
   "cell_type": "markdown",
   "metadata": {},
   "source": [
    "Gráficamente se visualiza que las personas casadas son a las que se contactan con mayor frecuencia, sin embargo los clientes solteros y estatus desconocido son los que proporcionalmente mostraron mayor tasa de aceptación de los depositos a plazo comparado con los casados, 14% y 15% vs 10% respectivamente. Complementariamente a los gráficos, la prueba de hipótesis chi nos muestra con un nivel de confianza del 95% que hay una dependencia significativa entre la variable estatus civil y la variable a predecir."
   ]
  },
  {
   "cell_type": "markdown",
   "metadata": {},
   "source": [
    "## Independent Variable: Age"
   ]
  },
  {
   "cell_type": "code",
   "execution_count": 55,
   "metadata": {},
   "outputs": [
    {
     "data": {
      "text/plain": [
       "Text(0.5, 0.98, 'AgeStatus')"
      ]
     },
     "execution_count": 55,
     "metadata": {},
     "output_type": "execute_result"
    },
    {
     "data": {
      "image/png": "[encoded data removed]",
      "text/plain": [
       "<Figure size 720x360 with 1 Axes>"
      ]
     },
     "metadata": {
      "needs_background": "light"
     },
     "output_type": "display_data"
    }
   ],
   "source": [
    "#Grafico de barras para edad\n",
    "gbarAgeStatus= sns.factorplot('ageRange', data=bankData1, kind='count', aspect=2)\n",
    "gbarAgeStatus.set_xlabels('AgeStatus')\n",
    "gbarAgeStatus.set_ylabels('Frecuency')\n",
    "gbarAgeStatus.fig.suptitle('AgeStatus')"
   ]
  },
  {
   "cell_type": "code",
   "execution_count": 56,
   "metadata": {},
   "outputs": [
    {
     "data": {
      "text/html": [
       "<div>\n",
       "<style scoped>\n",
       "    .dataframe tbody tr th:only-of-type {\n",
       "        vertical-align: middle;\n",
       "    }\n",
       "\n",
       "    .dataframe tbody tr th {\n",
       "        vertical-align: top;\n",
       "    }\n",
       "\n",
       "    .dataframe thead th {\n",
       "        text-align: right;\n",
       "    }\n",
       "</style>\n",
       "<table border=\"1\" class=\"dataframe\">\n",
       "  <thead>\n",
       "    <tr style=\"text-align: right;\">\n",
       "      <th>fixedTermDeposit</th>\n",
       "      <th>no</th>\n",
       "      <th>yes</th>\n",
       "    </tr>\n",
       "    <tr>\n",
       "      <th>ageRange</th>\n",
       "      <th></th>\n",
       "      <th></th>\n",
       "    </tr>\n",
       "  </thead>\n",
       "  <tbody>\n",
       "    <tr>\n",
       "      <td>Menor a 18</td>\n",
       "      <td>83</td>\n",
       "      <td>57</td>\n",
       "    </tr>\n",
       "    <tr>\n",
       "      <td>20-29</td>\n",
       "      <td>6176</td>\n",
       "      <td>1067</td>\n",
       "    </tr>\n",
       "    <tr>\n",
       "      <td>30-39</td>\n",
       "      <td>14788</td>\n",
       "      <td>1597</td>\n",
       "    </tr>\n",
       "    <tr>\n",
       "      <td>40-49</td>\n",
       "      <td>9403</td>\n",
       "      <td>837</td>\n",
       "    </tr>\n",
       "    <tr>\n",
       "      <td>50-59</td>\n",
       "      <td>5602</td>\n",
       "      <td>668</td>\n",
       "    </tr>\n",
       "    <tr>\n",
       "      <td>60-69</td>\n",
       "      <td>276</td>\n",
       "      <td>212</td>\n",
       "    </tr>\n",
       "    <tr>\n",
       "      <td>Mayor a 70</td>\n",
       "      <td>220</td>\n",
       "      <td>202</td>\n",
       "    </tr>\n",
       "  </tbody>\n",
       "</table>\n",
       "</div>"
      ],
      "text/plain": [
       "fixedTermDeposit     no   yes\n",
       "ageRange                     \n",
       "Menor a 18           83    57\n",
       "20-29              6176  1067\n",
       "30-39             14788  1597\n",
       "40-49              9403   837\n",
       "50-59              5602   668\n",
       "60-69               276   212\n",
       "Mayor a 70          220   202"
      ]
     },
     "execution_count": 56,
     "metadata": {},
     "output_type": "execute_result"
    }
   ],
   "source": [
    "#Agrupar y contabilizar por Fixed Term Deposit y Age\n",
    "ageFrec = pd.crosstab(bankData1['ageRange'], bankData1['fixedTermDeposit'])\n",
    "ageFrec"
   ]
  },
  {
   "cell_type": "code",
   "execution_count": 57,
   "metadata": {},
   "outputs": [
    {
     "data": {
      "text/html": [
       "<div>\n",
       "<style scoped>\n",
       "    .dataframe tbody tr th:only-of-type {\n",
       "        vertical-align: middle;\n",
       "    }\n",
       "\n",
       "    .dataframe tbody tr th {\n",
       "        vertical-align: top;\n",
       "    }\n",
       "\n",
       "    .dataframe thead th {\n",
       "        text-align: right;\n",
       "    }\n",
       "</style>\n",
       "<table border=\"1\" class=\"dataframe\">\n",
       "  <thead>\n",
       "    <tr style=\"text-align: right;\">\n",
       "      <th>fixedTermDeposit</th>\n",
       "      <th>no</th>\n",
       "      <th>yes</th>\n",
       "    </tr>\n",
       "    <tr>\n",
       "      <th>ageRange</th>\n",
       "      <th></th>\n",
       "      <th></th>\n",
       "    </tr>\n",
       "  </thead>\n",
       "  <tbody>\n",
       "    <tr>\n",
       "      <td>Menor a 18</td>\n",
       "      <td>0.592857</td>\n",
       "      <td>0.407143</td>\n",
       "    </tr>\n",
       "    <tr>\n",
       "      <td>20-29</td>\n",
       "      <td>0.852685</td>\n",
       "      <td>0.147315</td>\n",
       "    </tr>\n",
       "    <tr>\n",
       "      <td>30-39</td>\n",
       "      <td>0.902533</td>\n",
       "      <td>0.097467</td>\n",
       "    </tr>\n",
       "    <tr>\n",
       "      <td>40-49</td>\n",
       "      <td>0.918262</td>\n",
       "      <td>0.081738</td>\n",
       "    </tr>\n",
       "    <tr>\n",
       "      <td>50-59</td>\n",
       "      <td>0.893461</td>\n",
       "      <td>0.106539</td>\n",
       "    </tr>\n",
       "    <tr>\n",
       "      <td>60-69</td>\n",
       "      <td>0.565574</td>\n",
       "      <td>0.434426</td>\n",
       "    </tr>\n",
       "    <tr>\n",
       "      <td>Mayor a 70</td>\n",
       "      <td>0.521327</td>\n",
       "      <td>0.478673</td>\n",
       "    </tr>\n",
       "  </tbody>\n",
       "</table>\n",
       "</div>"
      ],
      "text/plain": [
       "fixedTermDeposit        no       yes\n",
       "ageRange                            \n",
       "Menor a 18        0.592857  0.407143\n",
       "20-29             0.852685  0.147315\n",
       "30-39             0.902533  0.097467\n",
       "40-49             0.918262  0.081738\n",
       "50-59             0.893461  0.106539\n",
       "60-69             0.565574  0.434426\n",
       "Mayor a 70        0.521327  0.478673"
      ]
     },
     "execution_count": 57,
     "metadata": {},
     "output_type": "execute_result"
    }
   ],
   "source": [
    "#Proporcion por Fixed Term Deposit y Age\n",
    "ageProp=bankData1.groupby(\"ageRange\")['fixedTermDeposit'].value_counts(normalize=True).unstack()\n",
    "ageProp"
   ]
  },
  {
   "cell_type": "code",
   "execution_count": 58,
   "metadata": {},
   "outputs": [
    {
     "data": {
      "text/plain": [
       "<matplotlib.axes._subplots.AxesSubplot at 0x23153ba33c8>"
      ]
     },
     "execution_count": 58,
     "metadata": {},
     "output_type": "execute_result"
    },
    {
     "data": {
      "image/png": "[encoded data removed]",
      "text/plain": [
       "<Figure size 720x576 with 1 Axes>"
      ]
     },
     "metadata": {
      "needs_background": "light"
     },
     "output_type": "display_data"
    }
   ],
   "source": [
    "#Grafico de barras\n",
    "ageProp.plot(kind='bar', stacked='True')"
   ]
  },
  {
   "cell_type": "markdown",
   "metadata": {},
   "source": [
    "Visualmente se observa que el banco se ha enfocado en contactar mayoritariamente a las personas en el rango de 30-39, sin embargo proporcionalmente los clientes mayores a 70 y entre 60-69 son los que muestran mejores tasas de aceptación, 47% y 43% respectivamente."
   ]
  },
  {
   "cell_type": "markdown",
   "metadata": {},
   "source": [
    "## Independent Variabe: Job "
   ]
  },
  {
   "cell_type": "code",
   "execution_count": 59,
   "metadata": {},
   "outputs": [
    {
     "data": {
      "image/png": "[encoded data removed]",
      "text/plain": [
       "<Figure size 720x576 with 1 Axes>"
      ]
     },
     "metadata": {
      "needs_background": "light"
     },
     "output_type": "display_data"
    }
   ],
   "source": [
    "#Grafico de barras para tipo de trabajo\n",
    "plotJob = pd.crosstab(index=bankData1['fixedTermDeposit'],\n",
    "            columns=bankData1['job']\n",
    "                  ).plot(kind='bar', stacked=False)"
   ]
  },
  {
   "cell_type": "code",
   "execution_count": 60,
   "metadata": {
    "scrolled": true
   },
   "outputs": [
    {
     "data": {
      "text/html": [
       "<div>\n",
       "<style scoped>\n",
       "    .dataframe tbody tr th:only-of-type {\n",
       "        vertical-align: middle;\n",
       "    }\n",
       "\n",
       "    .dataframe tbody tr th {\n",
       "        vertical-align: top;\n",
       "    }\n",
       "\n",
       "    .dataframe thead th {\n",
       "        text-align: right;\n",
       "    }\n",
       "</style>\n",
       "<table border=\"1\" class=\"dataframe\">\n",
       "  <thead>\n",
       "    <tr style=\"text-align: right;\">\n",
       "      <th>fixedTermDeposit</th>\n",
       "      <th>no</th>\n",
       "      <th>yes</th>\n",
       "    </tr>\n",
       "    <tr>\n",
       "      <th>job</th>\n",
       "      <th></th>\n",
       "      <th></th>\n",
       "    </tr>\n",
       "  </thead>\n",
       "  <tbody>\n",
       "    <tr>\n",
       "      <td>admin.</td>\n",
       "      <td>9070</td>\n",
       "      <td>1352</td>\n",
       "    </tr>\n",
       "    <tr>\n",
       "      <td>blue-collar</td>\n",
       "      <td>8616</td>\n",
       "      <td>638</td>\n",
       "    </tr>\n",
       "    <tr>\n",
       "      <td>entrepreneur</td>\n",
       "      <td>1332</td>\n",
       "      <td>124</td>\n",
       "    </tr>\n",
       "    <tr>\n",
       "      <td>housemaid</td>\n",
       "      <td>954</td>\n",
       "      <td>106</td>\n",
       "    </tr>\n",
       "    <tr>\n",
       "      <td>management</td>\n",
       "      <td>2596</td>\n",
       "      <td>328</td>\n",
       "    </tr>\n",
       "    <tr>\n",
       "      <td>retired</td>\n",
       "      <td>1286</td>\n",
       "      <td>434</td>\n",
       "    </tr>\n",
       "    <tr>\n",
       "      <td>self-employed</td>\n",
       "      <td>1272</td>\n",
       "      <td>149</td>\n",
       "    </tr>\n",
       "    <tr>\n",
       "      <td>services</td>\n",
       "      <td>3646</td>\n",
       "      <td>323</td>\n",
       "    </tr>\n",
       "    <tr>\n",
       "      <td>student</td>\n",
       "      <td>600</td>\n",
       "      <td>275</td>\n",
       "    </tr>\n",
       "    <tr>\n",
       "      <td>technician</td>\n",
       "      <td>6013</td>\n",
       "      <td>730</td>\n",
       "    </tr>\n",
       "    <tr>\n",
       "      <td>unemployed</td>\n",
       "      <td>870</td>\n",
       "      <td>144</td>\n",
       "    </tr>\n",
       "    <tr>\n",
       "      <td>unknown</td>\n",
       "      <td>293</td>\n",
       "      <td>37</td>\n",
       "    </tr>\n",
       "  </tbody>\n",
       "</table>\n",
       "</div>"
      ],
      "text/plain": [
       "fixedTermDeposit    no   yes\n",
       "job                         \n",
       "admin.            9070  1352\n",
       "blue-collar       8616   638\n",
       "entrepreneur      1332   124\n",
       "housemaid          954   106\n",
       "management        2596   328\n",
       "retired           1286   434\n",
       "self-employed     1272   149\n",
       "services          3646   323\n",
       "student            600   275\n",
       "technician        6013   730\n",
       "unemployed         870   144\n",
       "unknown            293    37"
      ]
     },
     "execution_count": 60,
     "metadata": {},
     "output_type": "execute_result"
    }
   ],
   "source": [
    "#Agrupar y contabilizar por Fixed Term Deposit y Job\n",
    "jobFrec = pd.crosstab(bankData1['job'], bankData1['fixedTermDeposit'])\n",
    "jobFrec"
   ]
  },
  {
   "cell_type": "code",
   "execution_count": 61,
   "metadata": {},
   "outputs": [
    {
     "data": {
      "text/html": [
       "<div>\n",
       "<style scoped>\n",
       "    .dataframe tbody tr th:only-of-type {\n",
       "        vertical-align: middle;\n",
       "    }\n",
       "\n",
       "    .dataframe tbody tr th {\n",
       "        vertical-align: top;\n",
       "    }\n",
       "\n",
       "    .dataframe thead th {\n",
       "        text-align: right;\n",
       "    }\n",
       "</style>\n",
       "<table border=\"1\" class=\"dataframe\">\n",
       "  <thead>\n",
       "    <tr style=\"text-align: right;\">\n",
       "      <th>fixedTermDeposit</th>\n",
       "      <th>no</th>\n",
       "      <th>yes</th>\n",
       "    </tr>\n",
       "    <tr>\n",
       "      <th>job</th>\n",
       "      <th></th>\n",
       "      <th></th>\n",
       "    </tr>\n",
       "  </thead>\n",
       "  <tbody>\n",
       "    <tr>\n",
       "      <td>admin.</td>\n",
       "      <td>0.870274</td>\n",
       "      <td>0.129726</td>\n",
       "    </tr>\n",
       "    <tr>\n",
       "      <td>blue-collar</td>\n",
       "      <td>0.931057</td>\n",
       "      <td>0.068943</td>\n",
       "    </tr>\n",
       "    <tr>\n",
       "      <td>entrepreneur</td>\n",
       "      <td>0.914835</td>\n",
       "      <td>0.085165</td>\n",
       "    </tr>\n",
       "    <tr>\n",
       "      <td>housemaid</td>\n",
       "      <td>0.900000</td>\n",
       "      <td>0.100000</td>\n",
       "    </tr>\n",
       "    <tr>\n",
       "      <td>management</td>\n",
       "      <td>0.887825</td>\n",
       "      <td>0.112175</td>\n",
       "    </tr>\n",
       "    <tr>\n",
       "      <td>retired</td>\n",
       "      <td>0.747674</td>\n",
       "      <td>0.252326</td>\n",
       "    </tr>\n",
       "    <tr>\n",
       "      <td>self-employed</td>\n",
       "      <td>0.895144</td>\n",
       "      <td>0.104856</td>\n",
       "    </tr>\n",
       "    <tr>\n",
       "      <td>services</td>\n",
       "      <td>0.918619</td>\n",
       "      <td>0.081381</td>\n",
       "    </tr>\n",
       "    <tr>\n",
       "      <td>student</td>\n",
       "      <td>0.685714</td>\n",
       "      <td>0.314286</td>\n",
       "    </tr>\n",
       "    <tr>\n",
       "      <td>technician</td>\n",
       "      <td>0.891740</td>\n",
       "      <td>0.108260</td>\n",
       "    </tr>\n",
       "    <tr>\n",
       "      <td>unemployed</td>\n",
       "      <td>0.857988</td>\n",
       "      <td>0.142012</td>\n",
       "    </tr>\n",
       "    <tr>\n",
       "      <td>unknown</td>\n",
       "      <td>0.887879</td>\n",
       "      <td>0.112121</td>\n",
       "    </tr>\n",
       "  </tbody>\n",
       "</table>\n",
       "</div>"
      ],
      "text/plain": [
       "fixedTermDeposit        no       yes\n",
       "job                                 \n",
       "admin.            0.870274  0.129726\n",
       "blue-collar       0.931057  0.068943\n",
       "entrepreneur      0.914835  0.085165\n",
       "housemaid         0.900000  0.100000\n",
       "management        0.887825  0.112175\n",
       "retired           0.747674  0.252326\n",
       "self-employed     0.895144  0.104856\n",
       "services          0.918619  0.081381\n",
       "student           0.685714  0.314286\n",
       "technician        0.891740  0.108260\n",
       "unemployed        0.857988  0.142012\n",
       "unknown           0.887879  0.112121"
      ]
     },
     "execution_count": 61,
     "metadata": {},
     "output_type": "execute_result"
    }
   ],
   "source": [
    "#Proporcion por Fixed Term Deposit y Job\n",
    "jobProp=bankData1.groupby(\"job\")['fixedTermDeposit'].value_counts(normalize=True).unstack()\n",
    "jobProp\n"
   ]
  },
  {
   "cell_type": "code",
   "execution_count": 363,
   "metadata": {},
   "outputs": [
    {
     "data": {
      "text/plain": [
       "<matplotlib.axes._subplots.AxesSubplot at 0x23152c52508>"
      ]
     },
     "execution_count": 363,
     "metadata": {},
     "output_type": "execute_result"
    },
    {
     "data": {
      "image/png": "[encoded data removed]",
      "text/plain": [
       "<Figure size 720x576 with 1 Axes>"
      ]
     },
     "metadata": {
      "needs_background": "light"
     },
     "output_type": "display_data"
    }
   ],
   "source": [
    "#Grafico de barras\n",
    "jobProp.plot(kind='barh', stacked='True')"
   ]
  },
  {
   "cell_type": "markdown",
   "metadata": {},
   "source": [
    "A pesar de que los clientes bajo un perfil de estudiante y retirado no están entre los más contactados, proporcionalmente sus tasas de aceptación son de las más altas con un 31% y 25% respectivamente."
   ]
  },
  {
   "cell_type": "markdown",
   "metadata": {},
   "source": [
    "## Independent Variable: Number of contacts"
   ]
  },
  {
   "cell_type": "code",
   "execution_count": 95,
   "metadata": {},
   "outputs": [
    {
     "data": {
      "text/plain": [
       "<matplotlib.axes._subplots.AxesSubplot at 0x231531c5088>"
      ]
     },
     "execution_count": 95,
     "metadata": {},
     "output_type": "execute_result"
    },
    {
     "data": {
      "image/png": "[encoded data removed]",
      "text/plain": [
       "<Figure size 576x432 with 1 Axes>"
      ]
     },
     "metadata": {
      "needs_background": "light"
     },
     "output_type": "display_data"
    }
   ],
   "source": [
    "#Boxplot para entender distribución de los datos por # de llamadas\n",
    "bankData1.boxplot('campaign', by='fixedTermDeposit', figsize=(8, 6))"
   ]
  },
  {
   "cell_type": "code",
   "execution_count": 340,
   "metadata": {},
   "outputs": [
    {
     "name": "stdout",
     "output_type": "stream",
     "text": [
      "                       df         sum_sq      mean_sq           F  \\\n",
      "fixedTermDeposit      1.0    1391.562959  1391.562959  182.156673   \n",
      "Residual          41186.0  314635.259513     7.639374         NaN   \n",
      "\n",
      "                        PR(>F)  \n",
      "fixedTermDeposit  2.007780e-41  \n",
      "Residual                   NaN  \n"
     ]
    }
   ],
   "source": [
    "mod=ols('campaign ~ fixedTermDeposit', data=bankData1).fit()\n",
    "aov_table=sm.stats.anova_lm(mod,typ=1)\n",
    "print(aov_table)"
   ]
  },
  {
   "cell_type": "markdown",
   "metadata": {},
   "source": [
    "El boxplot de # Número de veces que una persona fue contactada vs la variable dependiente, muestra una diferencia significativa en las distribuciones de los datos y se puede visualizar que aquellos que aceptaron el deposito a plazo fueron contactados menos veces en comparación con los que lo rechazaron. Complementariamente se realiza una ANOVA de un factor y se concluye con un 95% de confianza que las medias en el # de contactos de ambos conjuntos (aceptación vs rechazo) difieren entre sí."
   ]
  },
  {
   "cell_type": "markdown",
   "metadata": {},
   "source": [
    "## Independent Variable: Duration"
   ]
  },
  {
   "cell_type": "code",
   "execution_count": 96,
   "metadata": {},
   "outputs": [
    {
     "data": {
      "text/plain": [
       "<matplotlib.axes._subplots.AxesSubplot at 0x23152b2d348>"
      ]
     },
     "execution_count": 96,
     "metadata": {},
     "output_type": "execute_result"
    },
    {
     "data": {
      "image/png": "[encoded data removed]",
      "text/plain": [
       "<Figure size 576x432 with 1 Axes>"
      ]
     },
     "metadata": {
      "needs_background": "light"
     },
     "output_type": "display_data"
    }
   ],
   "source": [
    "#Boxplot para entender distribución de los datos por duracion de llamadas\n",
    "bankData1.boxplot('duration', by='fixedTermDeposit', figsize=(8, 6))"
   ]
  },
  {
   "cell_type": "code",
   "execution_count": 359,
   "metadata": {},
   "outputs": [
    {
     "name": "stdout",
     "output_type": "stream",
     "text": [
      "                       df        sum_sq       mean_sq            F  PR(>F)\n",
      "fixedTermDeposit      1.0  4.547710e+08  4.547710e+08  8094.101634     0.0\n",
      "Residual          41186.0  2.314055e+09  5.618548e+04          NaN     NaN\n"
     ]
    }
   ],
   "source": [
    "mod1=ols('duration~fixedTermDeposit', data=bankData1).fit()\n",
    "aov_table1=sm.stats.anova_lm(mod1,typ=1)\n",
    "print(aov_table1)"
   ]
  },
  {
   "cell_type": "markdown",
   "metadata": {},
   "source": [
    "El boxplot de Duración de la llamada vs la variable dependiente Depositos a plazo, muestra una diferencia significativa en las distribuciones de los datos y se puede visualizar que aquellos que aceptaron el deposito a plazo registraron duraciones de llamadas mayores con respecto a los que rechazaron el deposito. Complementariamente se realiza una ANOVA de un factor y se concluye con un 95% de confianza que las medias en el # de contactos de ambos conjuntos (aceptación vs rechazo) difieren entre sí."
   ]
  },
  {
   "cell_type": "markdown",
   "metadata": {},
   "source": [
    "# Experiment 1"
   ]
  },
  {
   "cell_type": "markdown",
   "metadata": {},
   "source": [
    "Se toman en cuenta todas aquellas variables/atributos disponibles en el conjunto de datos. \n",
    "En cada uno de los expermientos se realiza la selección y reeingeniería de variables, división del conjunto de datos en 70-30 para su entrenamiento y testeo, entrenamiento del modelo mediate la aplicación de 4 algoritmos diferentes de clasificación y el testeo de los modelos.\n",
    "Para este experimento, se evalua el desempeño del modelo mediante la aplicación de diferentes algoritmos tales como Decision Tree, Super Vector Machine, Knn y Random Forest."
   ]
  },
  {
   "cell_type": "markdown",
   "metadata": {},
   "source": [
    "## Features Selection-Experiment 1"
   ]
  },
  {
   "cell_type": "markdown",
   "metadata": {},
   "source": [
    "Se toman en cuenta todas aquellas variables/atributos disponibles en el conjunto de datos y se realiza un trabajo de reingeniería de variables en aquellas variables independientes de tipo categoricas."
   ]
  },
  {
   "cell_type": "code",
   "execution_count": 182,
   "metadata": {},
   "outputs": [
    {
     "data": {
      "text/plain": [
       "Index(['age', 'job', 'marital', 'education', 'default', 'housing', 'loan',\n",
       "       'contact', 'month', 'dayOfWeek', 'duration', 'campaign', 'pdays',\n",
       "       'previous', 'poutcome', 'empVarRate', 'consPriceIdx', 'consConfIdx',\n",
       "       'euribor3m', 'nrEmployed', 'fixedTermDeposit', 'ageRange',\n",
       "       'durationRange', 'job1', 'marital1', 'education1', 'default1',\n",
       "       'housing1', 'loan1', 'contact1', 'month1', 'dayOfWeek1', 'poutcome1',\n",
       "       'fixedTermDeposit1'],\n",
       "      dtype='object')"
      ]
     },
     "execution_count": 182,
     "metadata": {},
     "output_type": "execute_result"
    }
   ],
   "source": [
    "#Visualizar las columnas disponibles\n",
    "bankData1.columns"
   ]
  },
  {
   "cell_type": "code",
   "execution_count": 183,
   "metadata": {},
   "outputs": [
    {
     "data": {
      "text/html": [
       "<div>\n",
       "<style scoped>\n",
       "    .dataframe tbody tr th:only-of-type {\n",
       "        vertical-align: middle;\n",
       "    }\n",
       "\n",
       "    .dataframe tbody tr th {\n",
       "        vertical-align: top;\n",
       "    }\n",
       "\n",
       "    .dataframe thead th {\n",
       "        text-align: right;\n",
       "    }\n",
       "</style>\n",
       "<table border=\"1\" class=\"dataframe\">\n",
       "  <thead>\n",
       "    <tr style=\"text-align: right;\">\n",
       "      <th></th>\n",
       "      <th>age</th>\n",
       "      <th>duration</th>\n",
       "      <th>campaign</th>\n",
       "      <th>pdays</th>\n",
       "      <th>previous</th>\n",
       "      <th>empVarRate</th>\n",
       "      <th>consPriceIdx</th>\n",
       "      <th>consConfIdx</th>\n",
       "      <th>euribor3m</th>\n",
       "      <th>nrEmployed</th>\n",
       "      <th>job1</th>\n",
       "      <th>marital1</th>\n",
       "      <th>education1</th>\n",
       "      <th>default1</th>\n",
       "      <th>housing1</th>\n",
       "      <th>loan1</th>\n",
       "      <th>contact1</th>\n",
       "      <th>month1</th>\n",
       "      <th>dayOfWeek1</th>\n",
       "      <th>poutcome1</th>\n",
       "    </tr>\n",
       "  </thead>\n",
       "  <tbody>\n",
       "    <tr>\n",
       "      <td>0</td>\n",
       "      <td>56</td>\n",
       "      <td>261</td>\n",
       "      <td>1</td>\n",
       "      <td>999</td>\n",
       "      <td>0</td>\n",
       "      <td>1.1</td>\n",
       "      <td>93.994</td>\n",
       "      <td>-36.4</td>\n",
       "      <td>4.857</td>\n",
       "      <td>5191.0</td>\n",
       "      <td>3</td>\n",
       "      <td>1</td>\n",
       "      <td>0</td>\n",
       "      <td>0</td>\n",
       "      <td>0</td>\n",
       "      <td>0</td>\n",
       "      <td>1</td>\n",
       "      <td>6</td>\n",
       "      <td>1</td>\n",
       "      <td>1</td>\n",
       "    </tr>\n",
       "    <tr>\n",
       "      <td>1</td>\n",
       "      <td>57</td>\n",
       "      <td>149</td>\n",
       "      <td>1</td>\n",
       "      <td>999</td>\n",
       "      <td>0</td>\n",
       "      <td>1.1</td>\n",
       "      <td>93.994</td>\n",
       "      <td>-36.4</td>\n",
       "      <td>4.857</td>\n",
       "      <td>5191.0</td>\n",
       "      <td>7</td>\n",
       "      <td>1</td>\n",
       "      <td>3</td>\n",
       "      <td>1</td>\n",
       "      <td>0</td>\n",
       "      <td>0</td>\n",
       "      <td>1</td>\n",
       "      <td>6</td>\n",
       "      <td>1</td>\n",
       "      <td>1</td>\n",
       "    </tr>\n",
       "    <tr>\n",
       "      <td>2</td>\n",
       "      <td>37</td>\n",
       "      <td>226</td>\n",
       "      <td>1</td>\n",
       "      <td>999</td>\n",
       "      <td>0</td>\n",
       "      <td>1.1</td>\n",
       "      <td>93.994</td>\n",
       "      <td>-36.4</td>\n",
       "      <td>4.857</td>\n",
       "      <td>5191.0</td>\n",
       "      <td>7</td>\n",
       "      <td>1</td>\n",
       "      <td>3</td>\n",
       "      <td>0</td>\n",
       "      <td>2</td>\n",
       "      <td>0</td>\n",
       "      <td>1</td>\n",
       "      <td>6</td>\n",
       "      <td>1</td>\n",
       "      <td>1</td>\n",
       "    </tr>\n",
       "    <tr>\n",
       "      <td>3</td>\n",
       "      <td>40</td>\n",
       "      <td>151</td>\n",
       "      <td>1</td>\n",
       "      <td>999</td>\n",
       "      <td>0</td>\n",
       "      <td>1.1</td>\n",
       "      <td>93.994</td>\n",
       "      <td>-36.4</td>\n",
       "      <td>4.857</td>\n",
       "      <td>5191.0</td>\n",
       "      <td>0</td>\n",
       "      <td>1</td>\n",
       "      <td>1</td>\n",
       "      <td>0</td>\n",
       "      <td>0</td>\n",
       "      <td>0</td>\n",
       "      <td>1</td>\n",
       "      <td>6</td>\n",
       "      <td>1</td>\n",
       "      <td>1</td>\n",
       "    </tr>\n",
       "    <tr>\n",
       "      <td>4</td>\n",
       "      <td>56</td>\n",
       "      <td>307</td>\n",
       "      <td>1</td>\n",
       "      <td>999</td>\n",
       "      <td>0</td>\n",
       "      <td>1.1</td>\n",
       "      <td>93.994</td>\n",
       "      <td>-36.4</td>\n",
       "      <td>4.857</td>\n",
       "      <td>5191.0</td>\n",
       "      <td>7</td>\n",
       "      <td>1</td>\n",
       "      <td>3</td>\n",
       "      <td>0</td>\n",
       "      <td>0</td>\n",
       "      <td>2</td>\n",
       "      <td>1</td>\n",
       "      <td>6</td>\n",
       "      <td>1</td>\n",
       "      <td>1</td>\n",
       "    </tr>\n",
       "  </tbody>\n",
       "</table>\n",
       "</div>"
      ],
      "text/plain": [
       "   age  duration  campaign  pdays  previous  empVarRate  consPriceIdx  \\\n",
       "0   56       261         1    999         0         1.1        93.994   \n",
       "1   57       149         1    999         0         1.1        93.994   \n",
       "2   37       226         1    999         0         1.1        93.994   \n",
       "3   40       151         1    999         0         1.1        93.994   \n",
       "4   56       307         1    999         0         1.1        93.994   \n",
       "\n",
       "   consConfIdx  euribor3m  nrEmployed  job1  marital1  education1  default1  \\\n",
       "0        -36.4      4.857      5191.0     3         1           0         0   \n",
       "1        -36.4      4.857      5191.0     7         1           3         1   \n",
       "2        -36.4      4.857      5191.0     7         1           3         0   \n",
       "3        -36.4      4.857      5191.0     0         1           1         0   \n",
       "4        -36.4      4.857      5191.0     7         1           3         0   \n",
       "\n",
       "   housing1  loan1  contact1  month1  dayOfWeek1  poutcome1  \n",
       "0         0      0         1       6           1          1  \n",
       "1         0      0         1       6           1          1  \n",
       "2         2      0         1       6           1          1  \n",
       "3         0      0         1       6           1          1  \n",
       "4         0      2         1       6           1          1  "
      ]
     },
     "execution_count": 183,
     "metadata": {},
     "output_type": "execute_result"
    }
   ],
   "source": [
    "#Seleccionar variables del dataset\n",
    "AllFeatures=bankData1.loc[ : , ['age','duration','campaign', 'pdays',\n",
    "       'previous', 'empVarRate', 'consPriceIdx', 'consConfIdx',\n",
    "       'euribor3m', 'nrEmployed', 'job1', 'marital1', 'education1', 'default1',\n",
    "       'housing1', 'loan1', 'contact1', 'month1', 'dayOfWeek1', 'poutcome1']]\n",
    "AllFeatures.head()"
   ]
  },
  {
   "cell_type": "code",
   "execution_count": 184,
   "metadata": {},
   "outputs": [],
   "source": [
    "#Definir la variable a predecir\n",
    "depVar = bankData1['fixedTermDeposit1']"
   ]
  },
  {
   "cell_type": "markdown",
   "metadata": {},
   "source": [
    "## Training and testing datasets-Experiment 1"
   ]
  },
  {
   "cell_type": "markdown",
   "metadata": {},
   "source": [
    "Se divide el conjunto de datos en 70% para fines de entrenamiento y el 30% restante para fines de testeo."
   ]
  },
  {
   "cell_type": "code",
   "execution_count": 185,
   "metadata": {},
   "outputs": [],
   "source": [
    "#Variables independientes Training Set\n",
    "XTrain = (AllFeatures[:])"
   ]
  },
  {
   "cell_type": "code",
   "execution_count": 186,
   "metadata": {},
   "outputs": [],
   "source": [
    "#Variable Dependiente Training Set\n",
    "YTrain = depVar[:]\n",
    "YTrainCount = len(YTrain.index)"
   ]
  },
  {
   "cell_type": "code",
   "execution_count": 187,
   "metadata": {},
   "outputs": [],
   "source": [
    "#Variables Independientes Testing Set\n",
    "XTest = AllFeatures[-100:]\n",
    "XTestCount = len(XTest.index)"
   ]
  },
  {
   "cell_type": "code",
   "execution_count": 188,
   "metadata": {},
   "outputs": [],
   "source": [
    "# Variable Dependiente Testing Set.Y Truth\n",
    "YTest = depVar[-100:]\n",
    "YTestCount = len(YTest.index)"
   ]
  },
  {
   "cell_type": "code",
   "execution_count": 189,
   "metadata": {},
   "outputs": [],
   "source": [
    "#Cross Validation\n",
    "XTrain, XTest, YTrain, YTest = train_test_split(XTrain, YTrain, test_size=0.3)"
   ]
  },
  {
   "cell_type": "code",
   "execution_count": 190,
   "metadata": {},
   "outputs": [
    {
     "data": {
      "text/plain": [
       "((28831, 20), (12357, 20))"
      ]
     },
     "execution_count": 190,
     "metadata": {},
     "output_type": "execute_result"
    }
   ],
   "source": [
    "XTrain.shape, XTest.shape"
   ]
  },
  {
   "cell_type": "markdown",
   "metadata": {},
   "source": [
    "## Predictive Models -Experiment 1"
   ]
  },
  {
   "cell_type": "markdown",
   "metadata": {},
   "source": [
    "Se prueba el set de datos con 4 clasificadores diferentes y se compara sus métricas de desempeño. Para cada uno de estos clasificadores aplicaremos entrenamiento, validación cruzada, predicciones y analizaremos la matriz de confusión."
   ]
  },
  {
   "cell_type": "markdown",
   "metadata": {},
   "source": [
    "## Decision Tree"
   ]
  },
  {
   "cell_type": "code",
   "execution_count": 191,
   "metadata": {},
   "outputs": [],
   "source": [
    "# Decision Tree\n",
    "modelDecisionTree = DecisionTreeClassifier(criterion='gini', max_depth=10)"
   ]
  },
  {
   "cell_type": "code",
   "execution_count": 192,
   "metadata": {},
   "outputs": [
    {
     "data": {
      "text/plain": [
       "DecisionTreeClassifier(ccp_alpha=0.0, class_weight=None, criterion='gini',\n",
       "                       max_depth=10, max_features=None, max_leaf_nodes=None,\n",
       "                       min_impurity_decrease=0.0, min_impurity_split=None,\n",
       "                       min_samples_leaf=1, min_samples_split=2,\n",
       "                       min_weight_fraction_leaf=0.0, presort='deprecated',\n",
       "                       random_state=None, splitter='best')"
      ]
     },
     "execution_count": 192,
     "metadata": {},
     "output_type": "execute_result"
    }
   ],
   "source": [
    "#Training\n",
    "modelDecisionTree.fit(XTrain,YTrain)"
   ]
  },
  {
   "cell_type": "code",
   "execution_count": 193,
   "metadata": {},
   "outputs": [
    {
     "name": "stdout",
     "output_type": "stream",
     "text": [
      "[0.9018724  0.91016302 0.91605966 0.90981616 0.89836975 0.91189733\n",
      " 0.90808186 0.91050989 0.91016302 0.90218522]\n"
     ]
    },
    {
     "data": {
      "text/plain": [
       "0.9423537164857272"
      ]
     },
     "execution_count": 193,
     "metadata": {},
     "output_type": "execute_result"
    }
   ],
   "source": [
    "#Cross Validation\n",
    "print(cross_val_score(modelDecisionTree, XTrain, YTrain, cv=10, n_jobs=2)) \n",
    "modelDecisionTree.score(XTrain,YTrain)"
   ]
  },
  {
   "cell_type": "code",
   "execution_count": 194,
   "metadata": {},
   "outputs": [],
   "source": [
    "#Testing\n",
    "predictionDecisionTree= modelDecisionTree.predict(XTest)"
   ]
  },
  {
   "cell_type": "code",
   "execution_count": 203,
   "metadata": {},
   "outputs": [
    {
     "data": {
      "text/html": [
       "<div>\n",
       "<style scoped>\n",
       "    .dataframe tbody tr th:only-of-type {\n",
       "        vertical-align: middle;\n",
       "    }\n",
       "\n",
       "    .dataframe tbody tr th {\n",
       "        vertical-align: top;\n",
       "    }\n",
       "\n",
       "    .dataframe thead th {\n",
       "        text-align: right;\n",
       "    }\n",
       "</style>\n",
       "<table border=\"1\" class=\"dataframe\">\n",
       "  <thead>\n",
       "    <tr style=\"text-align: right;\">\n",
       "      <th>Prediction</th>\n",
       "      <th>0</th>\n",
       "      <th>1</th>\n",
       "      <th>All</th>\n",
       "    </tr>\n",
       "    <tr>\n",
       "      <th>True</th>\n",
       "      <th></th>\n",
       "      <th></th>\n",
       "      <th></th>\n",
       "    </tr>\n",
       "  </thead>\n",
       "  <tbody>\n",
       "    <tr>\n",
       "      <td>0</td>\n",
       "      <td>10402</td>\n",
       "      <td>516</td>\n",
       "      <td>10918</td>\n",
       "    </tr>\n",
       "    <tr>\n",
       "      <td>1</td>\n",
       "      <td>645</td>\n",
       "      <td>794</td>\n",
       "      <td>1439</td>\n",
       "    </tr>\n",
       "    <tr>\n",
       "      <td>All</td>\n",
       "      <td>11047</td>\n",
       "      <td>1310</td>\n",
       "      <td>12357</td>\n",
       "    </tr>\n",
       "  </tbody>\n",
       "</table>\n",
       "</div>"
      ],
      "text/plain": [
       "Prediction      0     1    All\n",
       "True                          \n",
       "0           10402   516  10918\n",
       "1             645   794   1439\n",
       "All         11047  1310  12357"
      ]
     },
     "execution_count": 203,
     "metadata": {},
     "output_type": "execute_result"
    }
   ],
   "source": [
    "#Confusion Matrix\n",
    "pd.crosstab(YTest,predictionDecisionTree, rownames=['True'], colnames=['Prediction'], margins=True)"
   ]
  },
  {
   "cell_type": "code",
   "execution_count": 196,
   "metadata": {},
   "outputs": [
    {
     "name": "stdout",
     "output_type": "stream",
     "text": [
      "              precision    recall  f1-score   support\n",
      "\n",
      "          No       0.94      0.95      0.95     10918\n",
      "         Yes       0.61      0.55      0.58      1439\n",
      "\n",
      "    accuracy                           0.91     12357\n",
      "   macro avg       0.77      0.75      0.76     12357\n",
      "weighted avg       0.90      0.91      0.90     12357\n",
      "\n"
     ]
    }
   ],
   "source": [
    "#Classification Report\n",
    "target_names = ['No', 'Yes']\n",
    "print(classification_report(YTest, predictionDecisionTree,target_names=target_names))"
   ]
  },
  {
   "cell_type": "markdown",
   "metadata": {},
   "source": [
    "## Super Vector Machine"
   ]
  },
  {
   "cell_type": "code",
   "execution_count": 197,
   "metadata": {},
   "outputs": [],
   "source": [
    "#SVM\n",
    "modelSVM=svm.SVC(C=1, kernel='rbf')"
   ]
  },
  {
   "cell_type": "code",
   "execution_count": 198,
   "metadata": {},
   "outputs": [
    {
     "data": {
      "text/plain": [
       "SVC(C=1, break_ties=False, cache_size=200, class_weight=None, coef0=0.0,\n",
       "    decision_function_shape='ovr', degree=3, gamma='scale', kernel='rbf',\n",
       "    max_iter=-1, probability=False, random_state=None, shrinking=True,\n",
       "    tol=0.001, verbose=False)"
      ]
     },
     "execution_count": 198,
     "metadata": {},
     "output_type": "execute_result"
    }
   ],
   "source": [
    "#Training\n",
    "modelSVM.fit(XTrain,YTrain)"
   ]
  },
  {
   "cell_type": "code",
   "execution_count": 199,
   "metadata": {},
   "outputs": [
    {
     "name": "stdout",
     "output_type": "stream",
     "text": [
      "[0.89875173 0.90183836 0.89802289 0.89906348 0.89420742 0.89871661\n",
      " 0.89767603 0.89559487 0.90183836 0.8997572 ]\n"
     ]
    },
    {
     "data": {
      "text/plain": [
       "0.8985813880892095"
      ]
     },
     "execution_count": 199,
     "metadata": {},
     "output_type": "execute_result"
    }
   ],
   "source": [
    "#Cross Validation\n",
    "print(cross_val_score(modelSVM, XTrain, YTrain, cv=10, n_jobs=2)) \n",
    "modelSVM.score(XTrain,YTrain)"
   ]
  },
  {
   "cell_type": "code",
   "execution_count": 200,
   "metadata": {},
   "outputs": [],
   "source": [
    "#Testing\n",
    "predictionSVM= modelSVM.predict(XTest)"
   ]
  },
  {
   "cell_type": "code",
   "execution_count": 202,
   "metadata": {},
   "outputs": [
    {
     "data": {
      "text/html": [
       "<div>\n",
       "<style scoped>\n",
       "    .dataframe tbody tr th:only-of-type {\n",
       "        vertical-align: middle;\n",
       "    }\n",
       "\n",
       "    .dataframe tbody tr th {\n",
       "        vertical-align: top;\n",
       "    }\n",
       "\n",
       "    .dataframe thead th {\n",
       "        text-align: right;\n",
       "    }\n",
       "</style>\n",
       "<table border=\"1\" class=\"dataframe\">\n",
       "  <thead>\n",
       "    <tr style=\"text-align: right;\">\n",
       "      <th>Prediction</th>\n",
       "      <th>0</th>\n",
       "      <th>1</th>\n",
       "      <th>All</th>\n",
       "    </tr>\n",
       "    <tr>\n",
       "      <th>True</th>\n",
       "      <th></th>\n",
       "      <th></th>\n",
       "      <th></th>\n",
       "    </tr>\n",
       "  </thead>\n",
       "  <tbody>\n",
       "    <tr>\n",
       "      <td>0</td>\n",
       "      <td>10745</td>\n",
       "      <td>173</td>\n",
       "      <td>10918</td>\n",
       "    </tr>\n",
       "    <tr>\n",
       "      <td>1</td>\n",
       "      <td>1117</td>\n",
       "      <td>322</td>\n",
       "      <td>1439</td>\n",
       "    </tr>\n",
       "    <tr>\n",
       "      <td>All</td>\n",
       "      <td>11862</td>\n",
       "      <td>495</td>\n",
       "      <td>12357</td>\n",
       "    </tr>\n",
       "  </tbody>\n",
       "</table>\n",
       "</div>"
      ],
      "text/plain": [
       "Prediction      0    1    All\n",
       "True                         \n",
       "0           10745  173  10918\n",
       "1            1117  322   1439\n",
       "All         11862  495  12357"
      ]
     },
     "execution_count": 202,
     "metadata": {},
     "output_type": "execute_result"
    }
   ],
   "source": [
    "#Confusion Matrix\n",
    "pd.crosstab(YTest,predictionSVM, rownames=['True'], colnames=['Prediction'], margins=True)"
   ]
  },
  {
   "cell_type": "code",
   "execution_count": 204,
   "metadata": {},
   "outputs": [
    {
     "name": "stdout",
     "output_type": "stream",
     "text": [
      "              precision    recall  f1-score   support\n",
      "\n",
      "          No       0.91      0.98      0.94     10918\n",
      "         Yes       0.65      0.22      0.33      1439\n",
      "\n",
      "    accuracy                           0.90     12357\n",
      "   macro avg       0.78      0.60      0.64     12357\n",
      "weighted avg       0.88      0.90      0.87     12357\n",
      "\n"
     ]
    }
   ],
   "source": [
    "#Classification Report\n",
    "target_names = ['No', 'Yes']\n",
    "print(classification_report(YTest, predictionSVM,target_names=target_names))"
   ]
  },
  {
   "cell_type": "markdown",
   "metadata": {},
   "source": [
    "## KNN"
   ]
  },
  {
   "cell_type": "code",
   "execution_count": 205,
   "metadata": {},
   "outputs": [],
   "source": [
    "#KNN\n",
    "modelKnn = KNeighborsClassifier(n_jobs=2, n_neighbors=13, weights='uniform', p=1)"
   ]
  },
  {
   "cell_type": "code",
   "execution_count": 206,
   "metadata": {},
   "outputs": [
    {
     "data": {
      "text/plain": [
       "KNeighborsClassifier(algorithm='auto', leaf_size=30, metric='minkowski',\n",
       "                     metric_params=None, n_jobs=2, n_neighbors=13, p=1,\n",
       "                     weights='uniform')"
      ]
     },
     "execution_count": 206,
     "metadata": {},
     "output_type": "execute_result"
    }
   ],
   "source": [
    "#Training\n",
    "modelKnn.fit(XTrain,YTrain)"
   ]
  },
  {
   "cell_type": "code",
   "execution_count": 207,
   "metadata": {},
   "outputs": [
    {
     "name": "stdout",
     "output_type": "stream",
     "text": [
      "[0.90499307 0.90565383 0.91155047 0.91050989 0.90183836 0.91293791\n",
      " 0.91189733 0.91120361 0.90565383 0.91085675]\n"
     ]
    },
    {
     "data": {
      "text/plain": [
       "0.919981963858347"
      ]
     },
     "execution_count": 207,
     "metadata": {},
     "output_type": "execute_result"
    }
   ],
   "source": [
    "#Cross Validation\n",
    "print(cross_val_score(modelKnn, XTrain, YTrain, cv=10, n_jobs=2)) \n",
    "modelKnn.score(XTrain,YTrain)"
   ]
  },
  {
   "cell_type": "code",
   "execution_count": 208,
   "metadata": {},
   "outputs": [],
   "source": [
    "#Testing\n",
    "predictionKnn= modelKnn.predict(XTest)"
   ]
  },
  {
   "cell_type": "code",
   "execution_count": 209,
   "metadata": {},
   "outputs": [
    {
     "data": {
      "text/html": [
       "<div>\n",
       "<style scoped>\n",
       "    .dataframe tbody tr th:only-of-type {\n",
       "        vertical-align: middle;\n",
       "    }\n",
       "\n",
       "    .dataframe tbody tr th {\n",
       "        vertical-align: top;\n",
       "    }\n",
       "\n",
       "    .dataframe thead th {\n",
       "        text-align: right;\n",
       "    }\n",
       "</style>\n",
       "<table border=\"1\" class=\"dataframe\">\n",
       "  <thead>\n",
       "    <tr style=\"text-align: right;\">\n",
       "      <th>Prediction</th>\n",
       "      <th>0</th>\n",
       "      <th>1</th>\n",
       "      <th>All</th>\n",
       "    </tr>\n",
       "    <tr>\n",
       "      <th>True</th>\n",
       "      <th></th>\n",
       "      <th></th>\n",
       "      <th></th>\n",
       "    </tr>\n",
       "  </thead>\n",
       "  <tbody>\n",
       "    <tr>\n",
       "      <td>0</td>\n",
       "      <td>10498</td>\n",
       "      <td>420</td>\n",
       "      <td>10918</td>\n",
       "    </tr>\n",
       "    <tr>\n",
       "      <td>1</td>\n",
       "      <td>730</td>\n",
       "      <td>709</td>\n",
       "      <td>1439</td>\n",
       "    </tr>\n",
       "    <tr>\n",
       "      <td>All</td>\n",
       "      <td>11228</td>\n",
       "      <td>1129</td>\n",
       "      <td>12357</td>\n",
       "    </tr>\n",
       "  </tbody>\n",
       "</table>\n",
       "</div>"
      ],
      "text/plain": [
       "Prediction      0     1    All\n",
       "True                          \n",
       "0           10498   420  10918\n",
       "1             730   709   1439\n",
       "All         11228  1129  12357"
      ]
     },
     "execution_count": 209,
     "metadata": {},
     "output_type": "execute_result"
    }
   ],
   "source": [
    "#Confusion Matrix\n",
    "pd.crosstab(YTest,predictionKnn, rownames=['True'], colnames=['Prediction'], margins=True)"
   ]
  },
  {
   "cell_type": "code",
   "execution_count": 210,
   "metadata": {},
   "outputs": [
    {
     "name": "stdout",
     "output_type": "stream",
     "text": [
      "              precision    recall  f1-score   support\n",
      "\n",
      "          No       0.93      0.96      0.95     10918\n",
      "         Yes       0.63      0.49      0.55      1439\n",
      "\n",
      "    accuracy                           0.91     12357\n",
      "   macro avg       0.78      0.73      0.75     12357\n",
      "weighted avg       0.90      0.91      0.90     12357\n",
      "\n"
     ]
    }
   ],
   "source": [
    "#Classification Report\n",
    "target_names = ['No', 'Yes']\n",
    "print(classification_report(YTest, predictionKnn,target_names=target_names))"
   ]
  },
  {
   "cell_type": "markdown",
   "metadata": {},
   "source": [
    "# Random Forest"
   ]
  },
  {
   "cell_type": "code",
   "execution_count": 211,
   "metadata": {},
   "outputs": [],
   "source": [
    "#RF\n",
    "modelRF= RandomForestClassifier(max_depth=7, n_estimators=70, n_jobs=2, criterion='gini')"
   ]
  },
  {
   "cell_type": "code",
   "execution_count": 212,
   "metadata": {},
   "outputs": [
    {
     "data": {
      "text/plain": [
       "RandomForestClassifier(bootstrap=True, ccp_alpha=0.0, class_weight=None,\n",
       "                       criterion='gini', max_depth=7, max_features='auto',\n",
       "                       max_leaf_nodes=None, max_samples=None,\n",
       "                       min_impurity_decrease=0.0, min_impurity_split=None,\n",
       "                       min_samples_leaf=1, min_samples_split=2,\n",
       "                       min_weight_fraction_leaf=0.0, n_estimators=70, n_jobs=2,\n",
       "                       oob_score=False, random_state=None, verbose=0,\n",
       "                       warm_start=False)"
      ]
     },
     "execution_count": 212,
     "metadata": {},
     "output_type": "execute_result"
    }
   ],
   "source": [
    "#Training\n",
    "modelRF.fit(XTrain,YTrain)"
   ]
  },
  {
   "cell_type": "code",
   "execution_count": 213,
   "metadata": {},
   "outputs": [
    {
     "name": "stdout",
     "output_type": "stream",
     "text": [
      "[0.91262136 0.90842872 0.9094693  0.91363163 0.90669442 0.91155047\n",
      " 0.90912244 0.91120361 0.90981616 0.907735  ]\n"
     ]
    },
    {
     "data": {
      "text/plain": [
       "0.9192188963268704"
      ]
     },
     "execution_count": 213,
     "metadata": {},
     "output_type": "execute_result"
    }
   ],
   "source": [
    "#Cross Validation\n",
    "print(cross_val_score(modelRF, XTrain, YTrain, cv=10, n_jobs=2)) \n",
    "modelRF.score(XTrain,YTrain)"
   ]
  },
  {
   "cell_type": "code",
   "execution_count": 214,
   "metadata": {},
   "outputs": [],
   "source": [
    "#Testing\n",
    "predictionRf= modelRF.predict(XTest)"
   ]
  },
  {
   "cell_type": "code",
   "execution_count": 216,
   "metadata": {},
   "outputs": [
    {
     "data": {
      "text/html": [
       "<div>\n",
       "<style scoped>\n",
       "    .dataframe tbody tr th:only-of-type {\n",
       "        vertical-align: middle;\n",
       "    }\n",
       "\n",
       "    .dataframe tbody tr th {\n",
       "        vertical-align: top;\n",
       "    }\n",
       "\n",
       "    .dataframe thead th {\n",
       "        text-align: right;\n",
       "    }\n",
       "</style>\n",
       "<table border=\"1\" class=\"dataframe\">\n",
       "  <thead>\n",
       "    <tr style=\"text-align: right;\">\n",
       "      <th>Prediction</th>\n",
       "      <th>0</th>\n",
       "      <th>1</th>\n",
       "      <th>All</th>\n",
       "    </tr>\n",
       "    <tr>\n",
       "      <th>True</th>\n",
       "      <th></th>\n",
       "      <th></th>\n",
       "      <th></th>\n",
       "    </tr>\n",
       "  </thead>\n",
       "  <tbody>\n",
       "    <tr>\n",
       "      <td>0</td>\n",
       "      <td>10758</td>\n",
       "      <td>160</td>\n",
       "      <td>10918</td>\n",
       "    </tr>\n",
       "    <tr>\n",
       "      <td>1</td>\n",
       "      <td>987</td>\n",
       "      <td>452</td>\n",
       "      <td>1439</td>\n",
       "    </tr>\n",
       "    <tr>\n",
       "      <td>All</td>\n",
       "      <td>11745</td>\n",
       "      <td>612</td>\n",
       "      <td>12357</td>\n",
       "    </tr>\n",
       "  </tbody>\n",
       "</table>\n",
       "</div>"
      ],
      "text/plain": [
       "Prediction      0    1    All\n",
       "True                         \n",
       "0           10758  160  10918\n",
       "1             987  452   1439\n",
       "All         11745  612  12357"
      ]
     },
     "execution_count": 216,
     "metadata": {},
     "output_type": "execute_result"
    }
   ],
   "source": [
    "#Confusion Matrix\n",
    "pd.crosstab(YTest,predictionRf, rownames=['True'], colnames=['Prediction'], margins=True)"
   ]
  },
  {
   "cell_type": "code",
   "execution_count": 217,
   "metadata": {},
   "outputs": [
    {
     "name": "stdout",
     "output_type": "stream",
     "text": [
      "              precision    recall  f1-score   support\n",
      "\n",
      "          No       0.92      0.99      0.95     10918\n",
      "         Yes       0.74      0.31      0.44      1439\n",
      "\n",
      "    accuracy                           0.91     12357\n",
      "   macro avg       0.83      0.65      0.70     12357\n",
      "weighted avg       0.90      0.91      0.89     12357\n",
      "\n"
     ]
    }
   ],
   "source": [
    "#Classification Report\n",
    "target_names = ['No', 'Yes']\n",
    "print(classification_report(YTest, predictionRf,target_names=target_names))"
   ]
  },
  {
   "cell_type": "markdown",
   "metadata": {},
   "source": [
    "## Experiment 1- Model Comparison"
   ]
  },
  {
   "cell_type": "code",
   "execution_count": 236,
   "metadata": {},
   "outputs": [],
   "source": [
    "#Metricas por modelo\n",
    "accDt = accuracy_score(YTest, predictionDecisionTree)\n",
    "accKnn = accuracy_score(YTest, predictionKnn)\n",
    "accSVM = accuracy_score(YTest, predictionSVM)\n",
    "accRf = accuracy_score(YTest, predictionRf)\n",
    "preDt = precision_score(YTest, predictionDecisionTree)\n",
    "preKnn = precision_score(YTest, predictionKnn)\n",
    "preSVM = precision_score(YTest, predictionSVM)\n",
    "preRf = precision_score(YTest, predictionRf)\n",
    "preRf = precision_score(YTest, predictionRf)\n",
    "recDt = recall_score(YTest, predictionDecisionTree)\n",
    "recKnn = recall_score(YTest, predictionKnn)\n",
    "recSVM = recall_score(YTest, predictionSVM)\n",
    "recRf = recall_score(YTest, predictionRf)\n",
    "recRf = recall_score(YTest, predictionRf)"
   ]
  },
  {
   "cell_type": "code",
   "execution_count": 237,
   "metadata": {},
   "outputs": [
    {
     "data": {
      "text/html": [
       "<div>\n",
       "<style scoped>\n",
       "    .dataframe tbody tr th:only-of-type {\n",
       "        vertical-align: middle;\n",
       "    }\n",
       "\n",
       "    .dataframe tbody tr th {\n",
       "        vertical-align: top;\n",
       "    }\n",
       "\n",
       "    .dataframe thead th {\n",
       "        text-align: right;\n",
       "    }\n",
       "</style>\n",
       "<table border=\"1\" class=\"dataframe\">\n",
       "  <thead>\n",
       "    <tr style=\"text-align: right;\">\n",
       "      <th></th>\n",
       "      <th>Model</th>\n",
       "      <th>Accuracy</th>\n",
       "      <th>Precision</th>\n",
       "      <th>Recall</th>\n",
       "    </tr>\n",
       "  </thead>\n",
       "  <tbody>\n",
       "    <tr>\n",
       "      <td>0</td>\n",
       "      <td>DecTree</td>\n",
       "      <td>0.906045</td>\n",
       "      <td>0.606107</td>\n",
       "      <td>0.551772</td>\n",
       "    </tr>\n",
       "    <tr>\n",
       "      <td>1</td>\n",
       "      <td>KNN</td>\n",
       "      <td>0.906935</td>\n",
       "      <td>0.627989</td>\n",
       "      <td>0.492703</td>\n",
       "    </tr>\n",
       "    <tr>\n",
       "      <td>2</td>\n",
       "      <td>SVM</td>\n",
       "      <td>0.895606</td>\n",
       "      <td>0.650505</td>\n",
       "      <td>0.223767</td>\n",
       "    </tr>\n",
       "    <tr>\n",
       "      <td>3</td>\n",
       "      <td>RandomForest</td>\n",
       "      <td>0.907178</td>\n",
       "      <td>0.738562</td>\n",
       "      <td>0.314107</td>\n",
       "    </tr>\n",
       "  </tbody>\n",
       "</table>\n",
       "</div>"
      ],
      "text/plain": [
       "          Model  Accuracy  Precision    Recall\n",
       "0       DecTree  0.906045   0.606107  0.551772\n",
       "1           KNN  0.906935   0.627989  0.492703\n",
       "2           SVM  0.895606   0.650505  0.223767\n",
       "3  RandomForest  0.907178   0.738562  0.314107"
      ]
     },
     "execution_count": 237,
     "metadata": {},
     "output_type": "execute_result"
    }
   ],
   "source": [
    "acc = pd.DataFrame({'Model':['DecTree','KNN','SVM','RandomForest'],\n",
    "    'Accuracy':[accDt,accKnn,accSVM,accRf],'Precision':[preDt,preKnn,preSVM,preRf],'Recall':[recDt,recKnn,recSVM,recRf]})\n",
    "acc"
   ]
  },
  {
   "cell_type": "markdown",
   "metadata": {},
   "source": [
    "Para este experimento los mejores resultados se obtuvieron con el clasificador Random Forest. Importante señalar que los 4 algoritmos clasificadores mostraron medidas de desempeño muy similares."
   ]
  },
  {
   "cell_type": "markdown",
   "metadata": {},
   "source": [
    "# Experiment 2"
   ]
  },
  {
   "cell_type": "markdown",
   "metadata": {},
   "source": [
    "Se toman unicamente aquellas variables/atributos que sugiere la función RFE (Recursive Feature Elimination). En cada uno de los expermientos se realiza la selección y reeingeniería de variables, división del conjunto de datos en 70-30 para su entrenamiento y testeo, entrenamiento del modelo mediate la aplicación de 4 algoritmos diferentes de clasificación y el testeo de los modelos. Para este experimento, se evalua el desempeño del modelo mediante la aplicación de diferentes clasificadores tales como Decision Tree, Super Vector Machine, Knn y Random Forest."
   ]
  },
  {
   "cell_type": "markdown",
   "metadata": {},
   "source": [
    "## Features Selection RFE-Experiment 2"
   ]
  },
  {
   "cell_type": "markdown",
   "metadata": {},
   "source": [
    "Las 10 variables independientes con un efecto más significativo sobre la variable a predecir segun RFE son: ['age','duration','campaign', 'pdays','consPriceIdx', 'euribor3m', 'nrEmployed', 'job1', 'education1', 'dayOfWeek1']."
   ]
  },
  {
   "cell_type": "code",
   "execution_count": 256,
   "metadata": {},
   "outputs": [
    {
     "name": "stdout",
     "output_type": "stream",
     "text": [
      "[ True  True  True  True False False False  True  True  True  True False\n",
      "  True False False False False False  True False]\n",
      "[ 1  1  1  1  9  8  3  1  1  1  1  4  1 11  6  7 10  5  1  2]\n"
     ]
    }
   ],
   "source": [
    "rfeRF=RandomForestClassifier()\n",
    "rfe = RFE(rfeRF, n_features_to_select=10)\n",
    "rfe.fit(AllFeatures,depVar)\n",
    "print(rfe.support_)\n",
    "print(rfe.ranking_)"
   ]
  },
  {
   "cell_type": "code",
   "execution_count": 257,
   "metadata": {},
   "outputs": [
    {
     "data": {
      "text/html": [
       "<div>\n",
       "<style scoped>\n",
       "    .dataframe tbody tr th:only-of-type {\n",
       "        vertical-align: middle;\n",
       "    }\n",
       "\n",
       "    .dataframe tbody tr th {\n",
       "        vertical-align: top;\n",
       "    }\n",
       "\n",
       "    .dataframe thead th {\n",
       "        text-align: right;\n",
       "    }\n",
       "</style>\n",
       "<table border=\"1\" class=\"dataframe\">\n",
       "  <thead>\n",
       "    <tr style=\"text-align: right;\">\n",
       "      <th></th>\n",
       "      <th>age</th>\n",
       "      <th>duration</th>\n",
       "      <th>campaign</th>\n",
       "      <th>pdays</th>\n",
       "      <th>consPriceIdx</th>\n",
       "      <th>euribor3m</th>\n",
       "      <th>nrEmployed</th>\n",
       "      <th>job1</th>\n",
       "      <th>education1</th>\n",
       "      <th>dayOfWeek1</th>\n",
       "    </tr>\n",
       "  </thead>\n",
       "  <tbody>\n",
       "    <tr>\n",
       "      <td>0</td>\n",
       "      <td>56</td>\n",
       "      <td>261</td>\n",
       "      <td>1</td>\n",
       "      <td>999</td>\n",
       "      <td>93.994</td>\n",
       "      <td>4.857</td>\n",
       "      <td>5191.0</td>\n",
       "      <td>3</td>\n",
       "      <td>0</td>\n",
       "      <td>1</td>\n",
       "    </tr>\n",
       "    <tr>\n",
       "      <td>1</td>\n",
       "      <td>57</td>\n",
       "      <td>149</td>\n",
       "      <td>1</td>\n",
       "      <td>999</td>\n",
       "      <td>93.994</td>\n",
       "      <td>4.857</td>\n",
       "      <td>5191.0</td>\n",
       "      <td>7</td>\n",
       "      <td>3</td>\n",
       "      <td>1</td>\n",
       "    </tr>\n",
       "    <tr>\n",
       "      <td>2</td>\n",
       "      <td>37</td>\n",
       "      <td>226</td>\n",
       "      <td>1</td>\n",
       "      <td>999</td>\n",
       "      <td>93.994</td>\n",
       "      <td>4.857</td>\n",
       "      <td>5191.0</td>\n",
       "      <td>7</td>\n",
       "      <td>3</td>\n",
       "      <td>1</td>\n",
       "    </tr>\n",
       "    <tr>\n",
       "      <td>3</td>\n",
       "      <td>40</td>\n",
       "      <td>151</td>\n",
       "      <td>1</td>\n",
       "      <td>999</td>\n",
       "      <td>93.994</td>\n",
       "      <td>4.857</td>\n",
       "      <td>5191.0</td>\n",
       "      <td>0</td>\n",
       "      <td>1</td>\n",
       "      <td>1</td>\n",
       "    </tr>\n",
       "    <tr>\n",
       "      <td>4</td>\n",
       "      <td>56</td>\n",
       "      <td>307</td>\n",
       "      <td>1</td>\n",
       "      <td>999</td>\n",
       "      <td>93.994</td>\n",
       "      <td>4.857</td>\n",
       "      <td>5191.0</td>\n",
       "      <td>7</td>\n",
       "      <td>3</td>\n",
       "      <td>1</td>\n",
       "    </tr>\n",
       "  </tbody>\n",
       "</table>\n",
       "</div>"
      ],
      "text/plain": [
       "   age  duration  campaign  pdays  consPriceIdx  euribor3m  nrEmployed  job1  \\\n",
       "0   56       261         1    999        93.994      4.857      5191.0     3   \n",
       "1   57       149         1    999        93.994      4.857      5191.0     7   \n",
       "2   37       226         1    999        93.994      4.857      5191.0     7   \n",
       "3   40       151         1    999        93.994      4.857      5191.0     0   \n",
       "4   56       307         1    999        93.994      4.857      5191.0     7   \n",
       "\n",
       "   education1  dayOfWeek1  \n",
       "0           0           1  \n",
       "1           3           1  \n",
       "2           3           1  \n",
       "3           1           1  \n",
       "4           3           1  "
      ]
     },
     "execution_count": 257,
     "metadata": {},
     "output_type": "execute_result"
    }
   ],
   "source": [
    "# Variables con RFE\n",
    "featuresRFE = bankData1.loc[ : , ['age','duration','campaign', 'pdays','consPriceIdx', \n",
    "       'euribor3m', 'nrEmployed', 'job1', 'education1', 'dayOfWeek1']]\n",
    "\n",
    "featuresRFE.head()"
   ]
  },
  {
   "cell_type": "markdown",
   "metadata": {},
   "source": [
    "## Training and testing datasets-Experiment 2"
   ]
  },
  {
   "cell_type": "markdown",
   "metadata": {},
   "source": [
    "Se divide el conjunto de datos en 70% para fines de entrenamiento y el 30% restante para fines de testeo.Se prueba el set de datos con 4 clasificadores diferentes y se compara sus métricas de desempeño. "
   ]
  },
  {
   "cell_type": "code",
   "execution_count": 258,
   "metadata": {},
   "outputs": [],
   "source": [
    "#Variables independientes Training Set\n",
    "XTrain1 = (featuresRFE[:])"
   ]
  },
  {
   "cell_type": "code",
   "execution_count": 259,
   "metadata": {},
   "outputs": [],
   "source": [
    "#Variable Dependiente Training Set\n",
    "YTrain1 = depVar[:]"
   ]
  },
  {
   "cell_type": "code",
   "execution_count": 263,
   "metadata": {},
   "outputs": [],
   "source": [
    "#Variables Independientes Testing Set\n",
    "XTest1 = featuresRFE[-100:]\n",
    "XTest1Count = len(XTest1.index)"
   ]
  },
  {
   "cell_type": "code",
   "execution_count": 264,
   "metadata": {},
   "outputs": [],
   "source": [
    "# Variable Dependiente Testing Set.Y Truth\n",
    "YTest1 = depVar[-100:]\n",
    "YTest1Count = len(YTest1.index)"
   ]
  },
  {
   "cell_type": "code",
   "execution_count": 265,
   "metadata": {},
   "outputs": [],
   "source": [
    "#Cross Validation\n",
    "XTrain1, XTest1, YTrain1, YTest1 = train_test_split(XTrain1, YTrain1, test_size=0.3)"
   ]
  },
  {
   "cell_type": "code",
   "execution_count": 267,
   "metadata": {},
   "outputs": [
    {
     "data": {
      "text/plain": [
       "((28831, 10), (12357, 10))"
      ]
     },
     "execution_count": 267,
     "metadata": {},
     "output_type": "execute_result"
    }
   ],
   "source": [
    "XTrain1.shape, XTest1.shape"
   ]
  },
  {
   "cell_type": "markdown",
   "metadata": {},
   "source": [
    "## Predictive Models -Experiment 2\n"
   ]
  },
  {
   "cell_type": "markdown",
   "metadata": {},
   "source": [
    " Para cada uno de estos clasificadores aplicaremos entrenamiento, validación cruzada, predicciones y analizaremos la matriz de confusión."
   ]
  },
  {
   "cell_type": "markdown",
   "metadata": {},
   "source": [
    "## Decision Tree"
   ]
  },
  {
   "cell_type": "code",
   "execution_count": 268,
   "metadata": {},
   "outputs": [],
   "source": [
    "# Decision Tree\n",
    "modelDecisionTree1 = DecisionTreeClassifier(criterion='gini', max_depth=10)"
   ]
  },
  {
   "cell_type": "code",
   "execution_count": 269,
   "metadata": {},
   "outputs": [
    {
     "data": {
      "text/plain": [
       "DecisionTreeClassifier(ccp_alpha=0.0, class_weight=None, criterion='gini',\n",
       "                       max_depth=10, max_features=None, max_leaf_nodes=None,\n",
       "                       min_impurity_decrease=0.0, min_impurity_split=None,\n",
       "                       min_samples_leaf=1, min_samples_split=2,\n",
       "                       min_weight_fraction_leaf=0.0, presort='deprecated',\n",
       "                       random_state=None, splitter='best')"
      ]
     },
     "execution_count": 269,
     "metadata": {},
     "output_type": "execute_result"
    }
   ],
   "source": [
    "#Training\n",
    "modelDecisionTree1.fit(XTrain1,YTrain1)"
   ]
  },
  {
   "cell_type": "code",
   "execution_count": 270,
   "metadata": {},
   "outputs": [
    {
     "name": "stdout",
     "output_type": "stream",
     "text": [
      "[0.90117892 0.9094693  0.90391953 0.90391953 0.91224419 0.91189733\n",
      " 0.90808186 0.91363163 0.90738814 0.91155047]\n"
     ]
    },
    {
     "data": {
      "text/plain": [
       "0.9387118032673164"
      ]
     },
     "execution_count": 270,
     "metadata": {},
     "output_type": "execute_result"
    }
   ],
   "source": [
    "#Cross Validation\n",
    "print(cross_val_score(modelDecisionTree1, XTrain1, YTrain1, cv=10, n_jobs=2)) \n",
    "modelDecisionTree1.score(XTrain1,YTrain1)"
   ]
  },
  {
   "cell_type": "code",
   "execution_count": 271,
   "metadata": {},
   "outputs": [],
   "source": [
    "#Testing\n",
    "predictionDecisionTree1= modelDecisionTree1.predict(XTest1)"
   ]
  },
  {
   "cell_type": "code",
   "execution_count": 273,
   "metadata": {},
   "outputs": [
    {
     "data": {
      "text/html": [
       "<div>\n",
       "<style scoped>\n",
       "    .dataframe tbody tr th:only-of-type {\n",
       "        vertical-align: middle;\n",
       "    }\n",
       "\n",
       "    .dataframe tbody tr th {\n",
       "        vertical-align: top;\n",
       "    }\n",
       "\n",
       "    .dataframe thead th {\n",
       "        text-align: right;\n",
       "    }\n",
       "</style>\n",
       "<table border=\"1\" class=\"dataframe\">\n",
       "  <thead>\n",
       "    <tr style=\"text-align: right;\">\n",
       "      <th>Prediction</th>\n",
       "      <th>0</th>\n",
       "      <th>1</th>\n",
       "      <th>All</th>\n",
       "    </tr>\n",
       "    <tr>\n",
       "      <th>True</th>\n",
       "      <th></th>\n",
       "      <th></th>\n",
       "      <th></th>\n",
       "    </tr>\n",
       "  </thead>\n",
       "  <tbody>\n",
       "    <tr>\n",
       "      <td>0</td>\n",
       "      <td>10505</td>\n",
       "      <td>467</td>\n",
       "      <td>10972</td>\n",
       "    </tr>\n",
       "    <tr>\n",
       "      <td>1</td>\n",
       "      <td>657</td>\n",
       "      <td>728</td>\n",
       "      <td>1385</td>\n",
       "    </tr>\n",
       "    <tr>\n",
       "      <td>All</td>\n",
       "      <td>11162</td>\n",
       "      <td>1195</td>\n",
       "      <td>12357</td>\n",
       "    </tr>\n",
       "  </tbody>\n",
       "</table>\n",
       "</div>"
      ],
      "text/plain": [
       "Prediction      0     1    All\n",
       "True                          \n",
       "0           10505   467  10972\n",
       "1             657   728   1385\n",
       "All         11162  1195  12357"
      ]
     },
     "execution_count": 273,
     "metadata": {},
     "output_type": "execute_result"
    }
   ],
   "source": [
    "#Confusion Matrix\n",
    "pd.crosstab(YTest1,predictionDecisionTree1, rownames=['True'], colnames=['Prediction'], margins=True)"
   ]
  },
  {
   "cell_type": "code",
   "execution_count": 274,
   "metadata": {},
   "outputs": [
    {
     "name": "stdout",
     "output_type": "stream",
     "text": [
      "              precision    recall  f1-score   support\n",
      "\n",
      "          No       0.94      0.96      0.95     10972\n",
      "         Yes       0.61      0.53      0.56      1385\n",
      "\n",
      "    accuracy                           0.91     12357\n",
      "   macro avg       0.78      0.74      0.76     12357\n",
      "weighted avg       0.90      0.91      0.91     12357\n",
      "\n"
     ]
    }
   ],
   "source": [
    "#Classification Report\n",
    "target_names = ['No', 'Yes']\n",
    "print(classification_report(YTest1, predictionDecisionTree1,target_names=target_names))"
   ]
  },
  {
   "cell_type": "markdown",
   "metadata": {},
   "source": [
    "## Super Vector Machine"
   ]
  },
  {
   "cell_type": "code",
   "execution_count": 275,
   "metadata": {},
   "outputs": [],
   "source": [
    "#SVM\n",
    "modelSVM1=svm.SVC(C=1, kernel='rbf')"
   ]
  },
  {
   "cell_type": "code",
   "execution_count": 277,
   "metadata": {},
   "outputs": [
    {
     "data": {
      "text/plain": [
       "SVC(C=1, break_ties=False, cache_size=200, class_weight=None, coef0=0.0,\n",
       "    decision_function_shape='ovr', degree=3, gamma='scale', kernel='rbf',\n",
       "    max_iter=-1, probability=False, random_state=None, shrinking=True,\n",
       "    tol=0.001, verbose=False)"
      ]
     },
     "execution_count": 277,
     "metadata": {},
     "output_type": "execute_result"
    }
   ],
   "source": [
    "#Training\n",
    "modelSVM1.fit(XTrain1,YTrain1)"
   ]
  },
  {
   "cell_type": "code",
   "execution_count": 281,
   "metadata": {},
   "outputs": [
    {
     "name": "stdout",
     "output_type": "stream",
     "text": [
      "[0.89355062 0.89836975 0.90322581 0.89698231 0.89663545 0.89732917\n",
      " 0.89524801 0.89732917 0.90079778 0.9014915 ]\n"
     ]
    },
    {
     "data": {
      "text/plain": [
       "0.8981998543234713"
      ]
     },
     "execution_count": 281,
     "metadata": {},
     "output_type": "execute_result"
    }
   ],
   "source": [
    "#Cross Validation\n",
    "print(cross_val_score(modelSVM1, XTrain1, YTrain1, cv=10, n_jobs=2)) \n",
    "modelSVM1.score(XTrain1,YTrain1)"
   ]
  },
  {
   "cell_type": "code",
   "execution_count": 282,
   "metadata": {},
   "outputs": [],
   "source": [
    "#Testing\n",
    "predictionSVM1= modelSVM1.predict(XTest1)"
   ]
  },
  {
   "cell_type": "code",
   "execution_count": 283,
   "metadata": {},
   "outputs": [
    {
     "data": {
      "text/html": [
       "<div>\n",
       "<style scoped>\n",
       "    .dataframe tbody tr th:only-of-type {\n",
       "        vertical-align: middle;\n",
       "    }\n",
       "\n",
       "    .dataframe tbody tr th {\n",
       "        vertical-align: top;\n",
       "    }\n",
       "\n",
       "    .dataframe thead th {\n",
       "        text-align: right;\n",
       "    }\n",
       "</style>\n",
       "<table border=\"1\" class=\"dataframe\">\n",
       "  <thead>\n",
       "    <tr style=\"text-align: right;\">\n",
       "      <th>Prediction</th>\n",
       "      <th>0</th>\n",
       "      <th>1</th>\n",
       "      <th>All</th>\n",
       "    </tr>\n",
       "    <tr>\n",
       "      <th>True</th>\n",
       "      <th></th>\n",
       "      <th></th>\n",
       "      <th></th>\n",
       "    </tr>\n",
       "  </thead>\n",
       "  <tbody>\n",
       "    <tr>\n",
       "      <td>0</td>\n",
       "      <td>10800</td>\n",
       "      <td>172</td>\n",
       "      <td>10972</td>\n",
       "    </tr>\n",
       "    <tr>\n",
       "      <td>1</td>\n",
       "      <td>1106</td>\n",
       "      <td>279</td>\n",
       "      <td>1385</td>\n",
       "    </tr>\n",
       "    <tr>\n",
       "      <td>All</td>\n",
       "      <td>11906</td>\n",
       "      <td>451</td>\n",
       "      <td>12357</td>\n",
       "    </tr>\n",
       "  </tbody>\n",
       "</table>\n",
       "</div>"
      ],
      "text/plain": [
       "Prediction      0    1    All\n",
       "True                         \n",
       "0           10800  172  10972\n",
       "1            1106  279   1385\n",
       "All         11906  451  12357"
      ]
     },
     "execution_count": 283,
     "metadata": {},
     "output_type": "execute_result"
    }
   ],
   "source": [
    "#Confusion Matrix\n",
    "pd.crosstab(YTest1,predictionSVM1, rownames=['True'], colnames=['Prediction'], margins=True)"
   ]
  },
  {
   "cell_type": "code",
   "execution_count": 286,
   "metadata": {},
   "outputs": [
    {
     "name": "stdout",
     "output_type": "stream",
     "text": [
      "              precision    recall  f1-score   support\n",
      "\n",
      "          No       0.91      0.98      0.94     10972\n",
      "         Yes       0.62      0.20      0.30      1385\n",
      "\n",
      "    accuracy                           0.90     12357\n",
      "   macro avg       0.76      0.59      0.62     12357\n",
      "weighted avg       0.87      0.90      0.87     12357\n",
      "\n"
     ]
    }
   ],
   "source": [
    "#Classification Report\n",
    "target_names = ['No', 'Yes']\n",
    "print(classification_report(YTest1, predictionSVM1,target_names=target_names))"
   ]
  },
  {
   "cell_type": "markdown",
   "metadata": {},
   "source": [
    "## KNN"
   ]
  },
  {
   "cell_type": "code",
   "execution_count": 287,
   "metadata": {},
   "outputs": [],
   "source": [
    "#KNN\n",
    "modelKnn1 = KNeighborsClassifier(n_jobs=2, n_neighbors=13, weights='uniform', p=1)"
   ]
  },
  {
   "cell_type": "code",
   "execution_count": 288,
   "metadata": {},
   "outputs": [
    {
     "data": {
      "text/plain": [
       "KNeighborsClassifier(algorithm='auto', leaf_size=30, metric='minkowski',\n",
       "                     metric_params=None, n_jobs=2, n_neighbors=13, p=1,\n",
       "                     weights='uniform')"
      ]
     },
     "execution_count": 288,
     "metadata": {},
     "output_type": "execute_result"
    }
   ],
   "source": [
    "#Training\n",
    "modelKnn.fit(XTrain1,YTrain1)"
   ]
  },
  {
   "cell_type": "code",
   "execution_count": 289,
   "metadata": {},
   "outputs": [
    {
     "name": "stdout",
     "output_type": "stream",
     "text": [
      "[0.90568655 0.91397849 0.90426639 0.907735   0.90079778 0.91328477\n",
      " 0.91016302 0.91293791 0.91120361 0.90912244]\n"
     ]
    },
    {
     "data": {
      "text/plain": [
       "0.9202941278484964"
      ]
     },
     "execution_count": 289,
     "metadata": {},
     "output_type": "execute_result"
    }
   ],
   "source": [
    "#Cross Validation\n",
    "print(cross_val_score(modelKnn1, XTrain1, YTrain1, cv=10, n_jobs=2)) \n",
    "modelKnn.score(XTrain1,YTrain1)"
   ]
  },
  {
   "cell_type": "code",
   "execution_count": 290,
   "metadata": {},
   "outputs": [],
   "source": [
    "#Testing\n",
    "predictionKnn1= modelKnn.predict(XTest1)"
   ]
  },
  {
   "cell_type": "code",
   "execution_count": 292,
   "metadata": {},
   "outputs": [
    {
     "data": {
      "text/html": [
       "<div>\n",
       "<style scoped>\n",
       "    .dataframe tbody tr th:only-of-type {\n",
       "        vertical-align: middle;\n",
       "    }\n",
       "\n",
       "    .dataframe tbody tr th {\n",
       "        vertical-align: top;\n",
       "    }\n",
       "\n",
       "    .dataframe thead th {\n",
       "        text-align: right;\n",
       "    }\n",
       "</style>\n",
       "<table border=\"1\" class=\"dataframe\">\n",
       "  <thead>\n",
       "    <tr style=\"text-align: right;\">\n",
       "      <th>Prediction</th>\n",
       "      <th>0</th>\n",
       "      <th>1</th>\n",
       "      <th>All</th>\n",
       "    </tr>\n",
       "    <tr>\n",
       "      <th>True</th>\n",
       "      <th></th>\n",
       "      <th></th>\n",
       "      <th></th>\n",
       "    </tr>\n",
       "  </thead>\n",
       "  <tbody>\n",
       "    <tr>\n",
       "      <td>0</td>\n",
       "      <td>10576</td>\n",
       "      <td>396</td>\n",
       "      <td>10972</td>\n",
       "    </tr>\n",
       "    <tr>\n",
       "      <td>1</td>\n",
       "      <td>700</td>\n",
       "      <td>685</td>\n",
       "      <td>1385</td>\n",
       "    </tr>\n",
       "    <tr>\n",
       "      <td>All</td>\n",
       "      <td>11276</td>\n",
       "      <td>1081</td>\n",
       "      <td>12357</td>\n",
       "    </tr>\n",
       "  </tbody>\n",
       "</table>\n",
       "</div>"
      ],
      "text/plain": [
       "Prediction      0     1    All\n",
       "True                          \n",
       "0           10576   396  10972\n",
       "1             700   685   1385\n",
       "All         11276  1081  12357"
      ]
     },
     "execution_count": 292,
     "metadata": {},
     "output_type": "execute_result"
    }
   ],
   "source": [
    "#Confusion Matrix\n",
    "pd.crosstab(YTest1,predictionKnn1, rownames=['True'], colnames=['Prediction'], margins=True)"
   ]
  },
  {
   "cell_type": "code",
   "execution_count": 294,
   "metadata": {},
   "outputs": [
    {
     "name": "stdout",
     "output_type": "stream",
     "text": [
      "              precision    recall  f1-score   support\n",
      "\n",
      "          No       0.94      0.96      0.95     10972\n",
      "         Yes       0.63      0.49      0.56      1385\n",
      "\n",
      "    accuracy                           0.91     12357\n",
      "   macro avg       0.79      0.73      0.75     12357\n",
      "weighted avg       0.90      0.91      0.91     12357\n",
      "\n"
     ]
    }
   ],
   "source": [
    "#Classification Report\n",
    "target_names = ['No', 'Yes']\n",
    "print(classification_report(YTest1, predictionKnn1,target_names=target_names))"
   ]
  },
  {
   "cell_type": "markdown",
   "metadata": {},
   "source": [
    "## Random Forest"
   ]
  },
  {
   "cell_type": "code",
   "execution_count": 295,
   "metadata": {},
   "outputs": [],
   "source": [
    "#RF\n",
    "modelRF1= RandomForestClassifier(max_depth=7, n_estimators=70, n_jobs=2, criterion='gini')"
   ]
  },
  {
   "cell_type": "code",
   "execution_count": 296,
   "metadata": {},
   "outputs": [
    {
     "data": {
      "text/plain": [
       "RandomForestClassifier(bootstrap=True, ccp_alpha=0.0, class_weight=None,\n",
       "                       criterion='gini', max_depth=7, max_features='auto',\n",
       "                       max_leaf_nodes=None, max_samples=None,\n",
       "                       min_impurity_decrease=0.0, min_impurity_split=None,\n",
       "                       min_samples_leaf=1, min_samples_split=2,\n",
       "                       min_weight_fraction_leaf=0.0, n_estimators=70, n_jobs=2,\n",
       "                       oob_score=False, random_state=None, verbose=0,\n",
       "                       warm_start=False)"
      ]
     },
     "execution_count": 296,
     "metadata": {},
     "output_type": "execute_result"
    }
   ],
   "source": [
    "#Training\n",
    "modelRF.fit(XTrain1,YTrain1)"
   ]
  },
  {
   "cell_type": "code",
   "execution_count": 297,
   "metadata": {},
   "outputs": [
    {
     "name": "stdout",
     "output_type": "stream",
     "text": [
      "[0.91262136 0.91432536 0.91085675 0.90634755 0.91120361 0.91710024\n",
      " 0.91259105 0.91155047 0.91120361 0.91918141]\n"
     ]
    },
    {
     "data": {
      "text/plain": [
       "0.9244909992716174"
      ]
     },
     "execution_count": 297,
     "metadata": {},
     "output_type": "execute_result"
    }
   ],
   "source": [
    "#Cross Validation\n",
    "print(cross_val_score(modelRF1, XTrain1, YTrain1, cv=10, n_jobs=2)) \n",
    "modelRF.score(XTrain1,YTrain1)"
   ]
  },
  {
   "cell_type": "code",
   "execution_count": 298,
   "metadata": {},
   "outputs": [],
   "source": [
    "#Testing\n",
    "predictionRf1= modelRF.predict(XTest1)"
   ]
  },
  {
   "cell_type": "code",
   "execution_count": 299,
   "metadata": {},
   "outputs": [
    {
     "data": {
      "text/html": [
       "<div>\n",
       "<style scoped>\n",
       "    .dataframe tbody tr th:only-of-type {\n",
       "        vertical-align: middle;\n",
       "    }\n",
       "\n",
       "    .dataframe tbody tr th {\n",
       "        vertical-align: top;\n",
       "    }\n",
       "\n",
       "    .dataframe thead th {\n",
       "        text-align: right;\n",
       "    }\n",
       "</style>\n",
       "<table border=\"1\" class=\"dataframe\">\n",
       "  <thead>\n",
       "    <tr style=\"text-align: right;\">\n",
       "      <th>Prediction</th>\n",
       "      <th>0</th>\n",
       "      <th>1</th>\n",
       "      <th>All</th>\n",
       "    </tr>\n",
       "    <tr>\n",
       "      <th>True</th>\n",
       "      <th></th>\n",
       "      <th></th>\n",
       "      <th></th>\n",
       "    </tr>\n",
       "  </thead>\n",
       "  <tbody>\n",
       "    <tr>\n",
       "      <td>0</td>\n",
       "      <td>10729</td>\n",
       "      <td>243</td>\n",
       "      <td>10972</td>\n",
       "    </tr>\n",
       "    <tr>\n",
       "      <td>1</td>\n",
       "      <td>815</td>\n",
       "      <td>570</td>\n",
       "      <td>1385</td>\n",
       "    </tr>\n",
       "    <tr>\n",
       "      <td>All</td>\n",
       "      <td>11544</td>\n",
       "      <td>813</td>\n",
       "      <td>12357</td>\n",
       "    </tr>\n",
       "  </tbody>\n",
       "</table>\n",
       "</div>"
      ],
      "text/plain": [
       "Prediction      0    1    All\n",
       "True                         \n",
       "0           10729  243  10972\n",
       "1             815  570   1385\n",
       "All         11544  813  12357"
      ]
     },
     "execution_count": 299,
     "metadata": {},
     "output_type": "execute_result"
    }
   ],
   "source": [
    "#Confusion Matrix\n",
    "pd.crosstab(YTest1,predictionRf1, rownames=['True'], colnames=['Prediction'], margins=True)"
   ]
  },
  {
   "cell_type": "code",
   "execution_count": 300,
   "metadata": {},
   "outputs": [
    {
     "name": "stdout",
     "output_type": "stream",
     "text": [
      "              precision    recall  f1-score   support\n",
      "\n",
      "          No       0.93      0.98      0.95     10972\n",
      "         Yes       0.70      0.41      0.52      1385\n",
      "\n",
      "    accuracy                           0.91     12357\n",
      "   macro avg       0.82      0.69      0.74     12357\n",
      "weighted avg       0.90      0.91      0.90     12357\n",
      "\n"
     ]
    }
   ],
   "source": [
    "#Classification Report\n",
    "target_names = ['No', 'Yes']\n",
    "print(classification_report(YTest1, predictionRf1,target_names=target_names))"
   ]
  },
  {
   "cell_type": "code",
   "execution_count": 310,
   "metadata": {},
   "outputs": [],
   "source": [
    "#Metricas por modelo\n",
    "accDt = accuracy_score(YTest1, predictionDecisionTree1)\n",
    "accKnn = accuracy_score(YTest1, predictionKnn1)\n",
    "accSVM = accuracy_score(YTest1, predictionSVM1)\n",
    "accRf = accuracy_score(YTest1, predictionRf1)\n",
    "preDt = precision_score(YTest1, predictionDecisionTree1)\n",
    "preKnn = precision_score(YTest1, predictionKnn1)\n",
    "preSVM = precision_score(YTest1, predictionSVM1)\n",
    "preRf = precision_score(YTest1, predictionRf1)\n",
    "preRf = precision_score(YTest1, predictionRf1)\n",
    "recDt = recall_score(YTest1, predictionDecisionTree1)\n",
    "recKnn = recall_score(YTest1, predictionKnn1)\n",
    "recSVM = recall_score(YTest1, predictionSVM1)\n",
    "recRf = recall_score(YTest1, predictionRf1)\n",
    "recRf = recall_score(YTest1, predictionRf1)"
   ]
  },
  {
   "cell_type": "code",
   "execution_count": 347,
   "metadata": {},
   "outputs": [
    {
     "data": {
      "text/html": [
       "<div>\n",
       "<style scoped>\n",
       "    .dataframe tbody tr th:only-of-type {\n",
       "        vertical-align: middle;\n",
       "    }\n",
       "\n",
       "    .dataframe tbody tr th {\n",
       "        vertical-align: top;\n",
       "    }\n",
       "\n",
       "    .dataframe thead th {\n",
       "        text-align: right;\n",
       "    }\n",
       "</style>\n",
       "<table border=\"1\" class=\"dataframe\">\n",
       "  <thead>\n",
       "    <tr style=\"text-align: right;\">\n",
       "      <th></th>\n",
       "      <th>Model</th>\n",
       "      <th>Accuracy</th>\n",
       "      <th>Precision</th>\n",
       "      <th>Recall</th>\n",
       "    </tr>\n",
       "  </thead>\n",
       "  <tbody>\n",
       "    <tr>\n",
       "      <td>0</td>\n",
       "      <td>DecTree</td>\n",
       "      <td>0.909039</td>\n",
       "      <td>0.609205</td>\n",
       "      <td>0.525632</td>\n",
       "    </tr>\n",
       "    <tr>\n",
       "      <td>1</td>\n",
       "      <td>KNN</td>\n",
       "      <td>0.911305</td>\n",
       "      <td>0.633673</td>\n",
       "      <td>0.494585</td>\n",
       "    </tr>\n",
       "    <tr>\n",
       "      <td>2</td>\n",
       "      <td>SVM</td>\n",
       "      <td>0.896577</td>\n",
       "      <td>0.618625</td>\n",
       "      <td>0.201444</td>\n",
       "    </tr>\n",
       "    <tr>\n",
       "      <td>3</td>\n",
       "      <td>RandomForest</td>\n",
       "      <td>0.914381</td>\n",
       "      <td>0.701107</td>\n",
       "      <td>0.411552</td>\n",
       "    </tr>\n",
       "  </tbody>\n",
       "</table>\n",
       "</div>"
      ],
      "text/plain": [
       "          Model  Accuracy  Precision    Recall\n",
       "0       DecTree  0.909039   0.609205  0.525632\n",
       "1           KNN  0.911305   0.633673  0.494585\n",
       "2           SVM  0.896577   0.618625  0.201444\n",
       "3  RandomForest  0.914381   0.701107  0.411552"
      ]
     },
     "execution_count": 347,
     "metadata": {},
     "output_type": "execute_result"
    }
   ],
   "source": [
    "#Tabla comparativa\n",
    "acc1 = pd.DataFrame({'Model':['DecTree','KNN','SVM','RandomForest'],\n",
    "    'Accuracy':[accDt,accKnn,accSVM,accRf],'Precision':[preDt,preKnn,preSVM,preRf],'Recall':[recDt,recKnn,recSVM,recRf]})\n",
    "acc1"
   ]
  },
  {
   "cell_type": "markdown",
   "metadata": {},
   "source": [
    "Para este experimento los mejores resultados se obtuvieron también con el clasificador Random Forest. Importante señalar que los 4 algoritmos clasificadores mostraron medidas de desempeño muy similares."
   ]
  },
  {
   "cell_type": "markdown",
   "metadata": {},
   "source": [
    "Las métricas de desempeño de Random Forest para ambos experimentos son muy similares. Por tanto se recomienda el Experimento 2 con el modelo Random Forest pues es más simple y se ejecuta más rápido. Asimismo al ser un modelo con menos variables, se facilita la tarea de manejo y almacenamiento de la información."
   ]
  }
 ],
 "metadata": {
  "kernelspec": {
   "display_name": "Python 3",
   "language": "python",
   "name": "python3"
  },
  "language_info": {
   "codemirror_mode": {
    "name": "ipython",
    "version": 3
   },
   "file_extension": ".py",
   "mimetype": "text/x-python",
   "name": "python",
   "nbconvert_exporter": "python",
   "pygments_lexer": "ipython3",
   "version": "3.7.4"
  }
 },
 "nbformat": 4,
 "nbformat_minor": 2
}
